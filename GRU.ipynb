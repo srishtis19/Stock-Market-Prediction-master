{
 "cells": [
  {
   "cell_type": "code",
   "execution_count": null,
   "metadata": {
    "colab": {},
    "colab_type": "code",
    "id": "aiIKscPY6rWq"
   },
   "outputs": [],
   "source": [
    "import math\n",
    "import numpy as np\n",
    "import pandas as pd\n",
    "import matplotlib.pyplot as plt\n",
    "from sklearn.preprocessing import MinMaxScaler\n",
    "from tensorflow.keras.models import Sequential\n",
    "from tensorflow.keras.layers import Dense, LSTM, Embedding, Dropout, Bidirectional,Activation "
   ]
  },
  {
   "cell_type": "code",
   "execution_count": null,
   "metadata": {
    "colab": {
     "base_uri": "https://localhost:8080/",
     "height": 122
    },
    "colab_type": "code",
    "id": "cwzwAiVU8Gv0",
    "outputId": "68e6cb14-4af2-4994-8bac-c8cd108eaa3f"
   },
   "outputs": [
    {
     "name": "stdout",
     "output_type": "stream",
     "text": [
      "Go to this URL in a browser: https://accounts.google.com/o/oauth2/auth?client_id=947318989803-6bn6qk8qdgf4n4g3pfee6491hc0brc4i.apps.googleusercontent.com&redirect_uri=urn%3aietf%3awg%3aoauth%3a2.0%3aoob&response_type=code&scope=email%20https%3a%2f%2fwww.googleapis.com%2fauth%2fdocs.test%20https%3a%2f%2fwww.googleapis.com%2fauth%2fdrive%20https%3a%2f%2fwww.googleapis.com%2fauth%2fdrive.photos.readonly%20https%3a%2f%2fwww.googleapis.com%2fauth%2fpeopleapi.readonly\n",
      "\n",
      "Enter your authorization code:\n",
      "··········\n",
      "Mounted at /content/driver\n"
     ]
    }
   ],
   "source": [
    "from google.colab import drive\n",
    "drive.mount('/content/driver')"
   ]
  },
  {
   "cell_type": "code",
   "execution_count": null,
   "metadata": {
    "colab": {
     "base_uri": "https://localhost:8080/",
     "height": 34
    },
    "colab_type": "code",
    "id": "nNjZb-g29sVS",
    "outputId": "d36cef0b-cb6e-4bdf-ac1d-888bd5875658"
   },
   "outputs": [
    {
     "name": "stdout",
     "output_type": "stream",
     "text": [
      "Mounted at /content/drive\n"
     ]
    }
   ],
   "source": [
    "from google.colab import drive\n",
    "drive.mount('/content/drive')"
   ]
  },
  {
   "cell_type": "code",
   "execution_count": null,
   "metadata": {
    "colab": {
     "base_uri": "https://localhost:8080/",
     "height": 419
    },
    "colab_type": "code",
    "id": "PbeceORW93wc",
    "outputId": "47b7b6b6-d3c5-4f2f-f57e-5d9c595861ed"
   },
   "outputs": [
    {
     "data": {
      "text/html": [
       "<div>\n",
       "<style scoped>\n",
       "    .dataframe tbody tr th:only-of-type {\n",
       "        vertical-align: middle;\n",
       "    }\n",
       "\n",
       "    .dataframe tbody tr th {\n",
       "        vertical-align: top;\n",
       "    }\n",
       "\n",
       "    .dataframe thead th {\n",
       "        text-align: right;\n",
       "    }\n",
       "</style>\n",
       "<table border=\"1\" class=\"dataframe\">\n",
       "  <thead>\n",
       "    <tr style=\"text-align: right;\">\n",
       "      <th></th>\n",
       "      <th>Date</th>\n",
       "      <th>Open</th>\n",
       "      <th>High</th>\n",
       "      <th>Low</th>\n",
       "      <th>Close</th>\n",
       "      <th>Adj Close</th>\n",
       "      <th>Volume</th>\n",
       "    </tr>\n",
       "  </thead>\n",
       "  <tbody>\n",
       "    <tr>\n",
       "      <th>0</th>\n",
       "      <td>11/27/2018</td>\n",
       "      <td>625.50</td>\n",
       "      <td>641.00</td>\n",
       "      <td>625.30</td>\n",
       "      <td>638.90</td>\n",
       "      <td>615.69</td>\n",
       "      <td>12285851</td>\n",
       "    </tr>\n",
       "    <tr>\n",
       "      <th>1</th>\n",
       "      <td>11/28/2018</td>\n",
       "      <td>640.95</td>\n",
       "      <td>668.70</td>\n",
       "      <td>640.00</td>\n",
       "      <td>666.40</td>\n",
       "      <td>642.19</td>\n",
       "      <td>17719890</td>\n",
       "    </tr>\n",
       "    <tr>\n",
       "      <th>2</th>\n",
       "      <td>11/29/2018</td>\n",
       "      <td>671.00</td>\n",
       "      <td>674.90</td>\n",
       "      <td>658.80</td>\n",
       "      <td>661.05</td>\n",
       "      <td>637.03</td>\n",
       "      <td>13399070</td>\n",
       "    </tr>\n",
       "    <tr>\n",
       "      <th>3</th>\n",
       "      <td>11/30/2018</td>\n",
       "      <td>661.00</td>\n",
       "      <td>672.00</td>\n",
       "      <td>660.95</td>\n",
       "      <td>667.45</td>\n",
       "      <td>643.20</td>\n",
       "      <td>10445773</td>\n",
       "    </tr>\n",
       "    <tr>\n",
       "      <th>4</th>\n",
       "      <td>12/3/2018</td>\n",
       "      <td>673.15</td>\n",
       "      <td>679.00</td>\n",
       "      <td>665.95</td>\n",
       "      <td>670.35</td>\n",
       "      <td>645.99</td>\n",
       "      <td>8260890</td>\n",
       "    </tr>\n",
       "    <tr>\n",
       "      <th>...</th>\n",
       "      <td>...</td>\n",
       "      <td>...</td>\n",
       "      <td>...</td>\n",
       "      <td>...</td>\n",
       "      <td>...</td>\n",
       "      <td>...</td>\n",
       "      <td>...</td>\n",
       "    </tr>\n",
       "    <tr>\n",
       "      <th>237</th>\n",
       "      <td>11/21/2019</td>\n",
       "      <td>715.50</td>\n",
       "      <td>721.45</td>\n",
       "      <td>710.50</td>\n",
       "      <td>713.25</td>\n",
       "      <td>713.25</td>\n",
       "      <td>9692973</td>\n",
       "    </tr>\n",
       "    <tr>\n",
       "      <th>238</th>\n",
       "      <td>11/22/2019</td>\n",
       "      <td>711.75</td>\n",
       "      <td>712.00</td>\n",
       "      <td>685.10</td>\n",
       "      <td>693.20</td>\n",
       "      <td>693.20</td>\n",
       "      <td>14415826</td>\n",
       "    </tr>\n",
       "    <tr>\n",
       "      <th>239</th>\n",
       "      <td>11/25/2019</td>\n",
       "      <td>693.35</td>\n",
       "      <td>705.15</td>\n",
       "      <td>693.20</td>\n",
       "      <td>698.10</td>\n",
       "      <td>698.10</td>\n",
       "      <td>7334511</td>\n",
       "    </tr>\n",
       "    <tr>\n",
       "      <th>240</th>\n",
       "      <td>11/26/2019</td>\n",
       "      <td>705.00</td>\n",
       "      <td>707.25</td>\n",
       "      <td>686.00</td>\n",
       "      <td>690.60</td>\n",
       "      <td>690.60</td>\n",
       "      <td>27252999</td>\n",
       "    </tr>\n",
       "    <tr>\n",
       "      <th>241</th>\n",
       "      <td>11/27/2019</td>\n",
       "      <td>694.25</td>\n",
       "      <td>697.65</td>\n",
       "      <td>690.10</td>\n",
       "      <td>695.75</td>\n",
       "      <td>695.75</td>\n",
       "      <td>3859538</td>\n",
       "    </tr>\n",
       "  </tbody>\n",
       "</table>\n",
       "<p>242 rows × 7 columns</p>\n",
       "</div>"
      ],
      "text/plain": [
       "           Date    Open    High     Low   Close  Adj Close    Volume\n",
       "0    11/27/2018  625.50  641.00  625.30  638.90     615.69  12285851\n",
       "1    11/28/2018  640.95  668.70  640.00  666.40     642.19  17719890\n",
       "2    11/29/2018  671.00  674.90  658.80  661.05     637.03  13399070\n",
       "3    11/30/2018  661.00  672.00  660.95  667.45     643.20  10445773\n",
       "4     12/3/2018  673.15  679.00  665.95  670.35     645.99   8260890\n",
       "..          ...     ...     ...     ...     ...        ...       ...\n",
       "237  11/21/2019  715.50  721.45  710.50  713.25     713.25   9692973\n",
       "238  11/22/2019  711.75  712.00  685.10  693.20     693.20  14415826\n",
       "239  11/25/2019  693.35  705.15  693.20  698.10     698.10   7334511\n",
       "240  11/26/2019  705.00  707.25  686.00  690.60     690.60  27252999\n",
       "241  11/27/2019  694.25  697.65  690.10  695.75     695.75   3859538\n",
       "\n",
       "[242 rows x 7 columns]"
      ]
     },
     "execution_count": 6,
     "metadata": {
      "tags": []
     },
     "output_type": "execute_result"
    }
   ],
   "source": [
    "\n",
    "df=pd.read_csv('/content/drive/My Drive/info1.csv')\n",
    "df"
   ]
  },
  {
   "cell_type": "code",
   "execution_count": null,
   "metadata": {
    "colab": {
     "base_uri": "https://localhost:8080/",
     "height": 34
    },
    "colab_type": "code",
    "id": "FgASc1Q6C0be",
    "outputId": "3a654a01-6ba4-4791-d3aa-0d1d6aeb8615"
   },
   "outputs": [
    {
     "data": {
      "text/plain": [
       "(242, 7)"
      ]
     },
     "execution_count": 7,
     "metadata": {
      "tags": []
     },
     "output_type": "execute_result"
    }
   ],
   "source": [
    "df.shape"
   ]
  },
  {
   "cell_type": "code",
   "execution_count": null,
   "metadata": {
    "colab": {},
    "colab_type": "code",
    "id": "kMyotUfJEKDB"
   },
   "outputs": [],
   "source": [
    "plt.style.use('fivethirtyeight')"
   ]
  },
  {
   "cell_type": "code",
   "execution_count": null,
   "metadata": {
    "colab": {
     "base_uri": "https://localhost:8080/",
     "height": 400
    },
    "colab_type": "code",
    "id": "rlF4vBmLDEfa",
    "outputId": "a254a7b7-5356-4dc1-e8a5-59fc4c0ad2f5"
   },
   "outputs": [
    {
     "data": {
      "text/plain": [
       "<function matplotlib.pyplot.show>"
      ]
     },
     "execution_count": 9,
     "metadata": {
      "tags": []
     },
     "output_type": "execute_result"
    },
    {
     "data": {
      "image/png": "[encoded data removed]",
      "text/plain": [
       "<Figure size 720x360 with 1 Axes>"
      ]
     },
     "metadata": {
      "tags": []
     },
     "output_type": "display_data"
    }
   ],
   "source": [
    "plt.figure(figsize=(10,5))\n",
    "plt.title('Stock price')\n",
    "plt.xlabel('Date')\n",
    "plt.ylabel('Close price ')\n",
    "plt.plot(df['Close'])\n",
    "plt.xticks(np.arange(0,242,45),df['Date'][0:242:45])\n",
    "plt.show"
   ]
  },
  {
   "cell_type": "code",
   "execution_count": null,
   "metadata": {
    "colab": {
     "base_uri": "https://localhost:8080/",
     "height": 34
    },
    "colab_type": "code",
    "id": "Ol9BSq4cEISX",
    "outputId": "aa12beb9-3a71-4659-c268-8b35efb83dcf"
   },
   "outputs": [
    {
     "data": {
      "text/plain": [
       "193"
      ]
     },
     "execution_count": 10,
     "metadata": {
      "tags": []
     },
     "output_type": "execute_result"
    }
   ],
   "source": [
    "data=df.filter(['Close']) #used to take out df['Close'] column out of whole df\n",
    "dataset=data.values  #used to arrange df['Close'] in array format i.e [[638.9],[666,4],[..]....[]]\n",
    "training_data_length=int(len(dataset)*0.8)\n",
    "training_data_length"
   ]
  },
  {
   "cell_type": "code",
   "execution_count": null,
   "metadata": {
    "colab": {
     "base_uri": "https://localhost:8080/",
     "height": 1000
    },
    "colab_type": "code",
    "id": "O-YIThzFE3Zq",
    "outputId": "718e4758-3667-4827-e019-38b4204e9bca"
   },
   "outputs": [
    {
     "data": {
      "text/plain": [
       "array([[0.01733398],\n",
       "       [0.15161133],\n",
       "       [0.12548828],\n",
       "       [0.15673828],\n",
       "       [0.17089844],\n",
       "       [0.24365234],\n",
       "       [0.22485352],\n",
       "       [0.16186523],\n",
       "       [0.23168945],\n",
       "       [0.1652832 ],\n",
       "       [0.19116211],\n",
       "       [0.21069336],\n",
       "       [0.3046875 ],\n",
       "       [0.34521484],\n",
       "       [0.28833008],\n",
       "       [0.20141602],\n",
       "       [0.14404297],\n",
       "       [0.15478516],\n",
       "       [0.05297852],\n",
       "       [0.06665039],\n",
       "       [0.04248047],\n",
       "       [0.10473633],\n",
       "       [0.10546875],\n",
       "       [0.11523438],\n",
       "       [0.14501953],\n",
       "       [0.16455078],\n",
       "       [0.16503906],\n",
       "       [0.12548828],\n",
       "       [0.17749023],\n",
       "       [0.16943359],\n",
       "       [0.19897461],\n",
       "       [0.21655273],\n",
       "       [0.23510742],\n",
       "       [0.32495117],\n",
       "       [0.44555664],\n",
       "       [0.49536133],\n",
       "       [0.47851563],\n",
       "       [0.46679688],\n",
       "       [0.53540039],\n",
       "       [0.53710938],\n",
       "       [0.47021484],\n",
       "       [0.47192383],\n",
       "       [0.46386719],\n",
       "       [0.45214844],\n",
       "       [0.4519043 ],\n",
       "       [0.44213867],\n",
       "       [0.55761719],\n",
       "       [0.59423828],\n",
       "       [0.58862305],\n",
       "       [0.58349609],\n",
       "       [0.62475586],\n",
       "       [0.62817383],\n",
       "       [0.61303711],\n",
       "       [0.62231445],\n",
       "       [0.56201172],\n",
       "       [0.51123047],\n",
       "       [0.52050781],\n",
       "       [0.51611328],\n",
       "       [0.43432617],\n",
       "       [0.5144043 ],\n",
       "       [0.47900391],\n",
       "       [0.48632813],\n",
       "       [0.58374023],\n",
       "       [0.52319336],\n",
       "       [0.48779297],\n",
       "       [0.4831543 ],\n",
       "       [0.52026367],\n",
       "       [0.47436523],\n",
       "       [0.47436523],\n",
       "       [0.42773438],\n",
       "       [0.37597656],\n",
       "       [0.37060547],\n",
       "       [0.34960938],\n",
       "       [0.35693359],\n",
       "       [0.35644531],\n",
       "       [0.40625   ],\n",
       "       [0.36547852],\n",
       "       [0.42431641],\n",
       "       [0.50585938],\n",
       "       [0.52612305],\n",
       "       [0.4855957 ],\n",
       "       [0.50024414],\n",
       "       [0.5847168 ],\n",
       "       [0.60571289],\n",
       "       [0.57592773],\n",
       "       [0.54956055],\n",
       "       [0.60522461],\n",
       "       [0.64404297],\n",
       "       [0.61157227],\n",
       "       [0.57299805],\n",
       "       [0.52416992],\n",
       "       [0.54882812],\n",
       "       [0.44995117],\n",
       "       [0.43334961],\n",
       "       [0.39892578],\n",
       "       [0.41845703],\n",
       "       [0.45336914],\n",
       "       [0.49365234],\n",
       "       [0.45507812],\n",
       "       [0.5012207 ],\n",
       "       [0.56640625],\n",
       "       [0.46606445],\n",
       "       [0.4309082 ],\n",
       "       [0.40551758],\n",
       "       [0.43554688],\n",
       "       [0.41015625],\n",
       "       [0.41845703],\n",
       "       [0.39794922],\n",
       "       [0.41186523],\n",
       "       [0.38330078],\n",
       "       [0.39428711],\n",
       "       [0.47729492],\n",
       "       [0.43237305],\n",
       "       [0.42504883],\n",
       "       [0.36108398],\n",
       "       [0.36328125],\n",
       "       [0.32080078],\n",
       "       [0.3605957 ],\n",
       "       [0.35522461],\n",
       "       [0.45288086],\n",
       "       [0.45141602],\n",
       "       [0.47949219],\n",
       "       [0.5       ],\n",
       "       [0.53369141],\n",
       "       [0.48803711],\n",
       "       [0.48950195],\n",
       "       [0.5065918 ],\n",
       "       [0.5769043 ],\n",
       "       [0.58374023],\n",
       "       [0.57836914],\n",
       "       [0.52392578],\n",
       "       [0.51318359],\n",
       "       [0.51367188],\n",
       "       [0.56054688],\n",
       "       [0.5690918 ],\n",
       "       [0.58374023],\n",
       "       [0.56079102],\n",
       "       [0.5378418 ],\n",
       "       [0.55053711],\n",
       "       [0.50708008],\n",
       "       [0.46484375],\n",
       "       [0.47192383],\n",
       "       [0.46850586],\n",
       "       [0.51098633],\n",
       "       [0.46850586],\n",
       "       [0.48071289],\n",
       "       [0.40356445],\n",
       "       [0.40161133],\n",
       "       [0.39135742],\n",
       "       [0.39990234],\n",
       "       [0.4206543 ],\n",
       "       [0.44628906],\n",
       "       [0.703125  ],\n",
       "       [0.72998047],\n",
       "       [0.77539062],\n",
       "       [0.76831055],\n",
       "       [0.73266602],\n",
       "       [0.7277832 ],\n",
       "       [0.75537109],\n",
       "       [0.73706055],\n",
       "       [0.77709961],\n",
       "       [0.74047852],\n",
       "       [0.76220703],\n",
       "       [0.76831055],\n",
       "       [0.77294922],\n",
       "       [0.65185547],\n",
       "       [0.68481445],\n",
       "       [0.69018555],\n",
       "       [0.67919922],\n",
       "       [0.68725586],\n",
       "       [0.74902344],\n",
       "       [0.75439453],\n",
       "       [0.63183594],\n",
       "       [0.6809082 ],\n",
       "       [0.6796875 ],\n",
       "       [0.69482422],\n",
       "       [0.76855469],\n",
       "       [0.80126953],\n",
       "       [0.78295898],\n",
       "       [0.81469727],\n",
       "       [0.81640625],\n",
       "       [0.72900391],\n",
       "       [0.81616211],\n",
       "       [0.83789063],\n",
       "       [0.87670898],\n",
       "       [0.87353516],\n",
       "       [0.90795898],\n",
       "       [0.97021484],\n",
       "       [1.        ],\n",
       "       [0.94604492],\n",
       "       [0.90209961],\n",
       "       [0.8840332 ],\n",
       "       [0.94702148],\n",
       "       [0.93920898],\n",
       "       [0.95654297],\n",
       "       [0.94970703],\n",
       "       [0.9050293 ],\n",
       "       [0.82836914],\n",
       "       [0.62988281],\n",
       "       [0.77490234],\n",
       "       [0.76806641],\n",
       "       [0.71875   ],\n",
       "       [0.71704102],\n",
       "       [0.83154297],\n",
       "       [0.77246094],\n",
       "       [0.73364258],\n",
       "       [0.77197266],\n",
       "       [0.75292969],\n",
       "       [0.72412109],\n",
       "       [0.72119141],\n",
       "       [0.8762207 ],\n",
       "       [0.73608398],\n",
       "       [0.64916992],\n",
       "       [0.66455078],\n",
       "       [0.6550293 ],\n",
       "       [0.64697266],\n",
       "       [0.04003906],\n",
       "       [0.07446289],\n",
       "       [0.        ],\n",
       "       [0.01025391],\n",
       "       [0.06591797],\n",
       "       [0.07470703],\n",
       "       [0.12329102],\n",
       "       [0.24536133],\n",
       "       [0.2565918 ],\n",
       "       [0.35961914],\n",
       "       [0.29663086],\n",
       "       [0.37573242],\n",
       "       [0.41381836],\n",
       "       [0.35546875],\n",
       "       [0.3371582 ],\n",
       "       [0.2734375 ],\n",
       "       [0.34155273],\n",
       "       [0.3347168 ],\n",
       "       [0.34106445],\n",
       "       [0.37841797],\n",
       "       [0.37915039],\n",
       "       [0.38037109],\n",
       "       [0.2824707 ],\n",
       "       [0.30639648],\n",
       "       [0.26977539],\n",
       "       [0.29492188]])"
      ]
     },
     "execution_count": 11,
     "metadata": {
      "tags": []
     },
     "output_type": "execute_result"
    }
   ],
   "source": [
    "scaler=MinMaxScaler(feature_range=(0,1)) #used to define scaler which will one hot encode data between value 0 to 1\n",
    "scaled_data=scaler.fit_transform(dataset)  #will apply scaler to original dataset\n",
    "scaled_data"
   ]
  },
  {
   "cell_type": "code",
   "execution_count": null,
   "metadata": {
    "colab": {
     "base_uri": "https://localhost:8080/",
     "height": 34
    },
    "colab_type": "code",
    "id": "-LE5ROAbKfcL",
    "outputId": "feb7251e-cc4e-4380-d23c-8b319cd00527"
   },
   "outputs": [
    {
     "data": {
      "text/plain": [
       "(193, 1)"
      ]
     },
     "execution_count": 12,
     "metadata": {
      "tags": []
     },
     "output_type": "execute_result"
    }
   ],
   "source": [
    "train_data=scaled_data[0:training_data_length,:]\n",
    "train_data.shape"
   ]
  },
  {
   "cell_type": "code",
   "execution_count": null,
   "metadata": {
    "colab": {
     "base_uri": "https://localhost:8080/",
     "height": 238
    },
    "colab_type": "code",
    "id": "7SRP7snSNbSV",
    "outputId": "1197d87f-007c-4ff0-a29b-3a58c0465a82"
   },
   "outputs": [
    {
     "data": {
      "text/plain": [
       "array([[0.01733398, 0.15161133, 0.12548828, ..., 0.51611328, 0.43432617,\n",
       "        0.5144043 ],\n",
       "       [0.15161133, 0.12548828, 0.15673828, ..., 0.43432617, 0.5144043 ,\n",
       "        0.47900391],\n",
       "       [0.12548828, 0.15673828, 0.17089844, ..., 0.5144043 , 0.47900391,\n",
       "        0.48632813],\n",
       "       ...,\n",
       "       [0.52392578, 0.51318359, 0.51367188, ..., 0.97021484, 1.        ,\n",
       "        0.94604492],\n",
       "       [0.51318359, 0.51367188, 0.56054688, ..., 1.        , 0.94604492,\n",
       "        0.90209961],\n",
       "       [0.51367188, 0.56054688, 0.5690918 , ..., 0.94604492, 0.90209961,\n",
       "        0.8840332 ]])"
      ]
     },
     "execution_count": 13,
     "metadata": {
      "tags": []
     },
     "output_type": "execute_result"
    }
   ],
   "source": [
    "x_train=[]\n",
    "y_train=[]\n",
    "for i in range(60,len(train_data)):\n",
    "  x_train.append(train_data[i-60:i,0])\n",
    "  y_train.append(train_data[i,0])\n",
    "\n",
    "\n",
    "\n",
    "x_train=np.array(x_train)\n",
    "y_train=np.array(y_train)\n",
    "\n",
    "\n",
    "x_train"
   ]
  },
  {
   "cell_type": "code",
   "execution_count": null,
   "metadata": {
    "colab": {
     "base_uri": "https://localhost:8080/",
     "height": 476
    },
    "colab_type": "code",
    "id": "v7DqBr3J9Fl-",
    "outputId": "b2dba7b1-df41-4980-89f6-ceebeffaf9ff"
   },
   "outputs": [
    {
     "data": {
      "text/plain": [
       "array([0.47900391, 0.48632813, 0.58374023, 0.52319336, 0.48779297,\n",
       "       0.4831543 , 0.52026367, 0.47436523, 0.47436523, 0.42773438,\n",
       "       0.37597656, 0.37060547, 0.34960938, 0.35693359, 0.35644531,\n",
       "       0.40625   , 0.36547852, 0.42431641, 0.50585938, 0.52612305,\n",
       "       0.4855957 , 0.50024414, 0.5847168 , 0.60571289, 0.57592773,\n",
       "       0.54956055, 0.60522461, 0.64404297, 0.61157227, 0.57299805,\n",
       "       0.52416992, 0.54882812, 0.44995117, 0.43334961, 0.39892578,\n",
       "       0.41845703, 0.45336914, 0.49365234, 0.45507812, 0.5012207 ,\n",
       "       0.56640625, 0.46606445, 0.4309082 , 0.40551758, 0.43554688,\n",
       "       0.41015625, 0.41845703, 0.39794922, 0.41186523, 0.38330078,\n",
       "       0.39428711, 0.47729492, 0.43237305, 0.42504883, 0.36108398,\n",
       "       0.36328125, 0.32080078, 0.3605957 , 0.35522461, 0.45288086,\n",
       "       0.45141602, 0.47949219, 0.5       , 0.53369141, 0.48803711,\n",
       "       0.48950195, 0.5065918 , 0.5769043 , 0.58374023, 0.57836914,\n",
       "       0.52392578, 0.51318359, 0.51367188, 0.56054688, 0.5690918 ,\n",
       "       0.58374023, 0.56079102, 0.5378418 , 0.55053711, 0.50708008,\n",
       "       0.46484375, 0.47192383, 0.46850586, 0.51098633, 0.46850586,\n",
       "       0.48071289, 0.40356445, 0.40161133, 0.39135742, 0.39990234,\n",
       "       0.4206543 , 0.44628906, 0.703125  , 0.72998047, 0.77539062,\n",
       "       0.76831055, 0.73266602, 0.7277832 , 0.75537109, 0.73706055,\n",
       "       0.77709961, 0.74047852, 0.76220703, 0.76831055, 0.77294922,\n",
       "       0.65185547, 0.68481445, 0.69018555, 0.67919922, 0.68725586,\n",
       "       0.74902344, 0.75439453, 0.63183594, 0.6809082 , 0.6796875 ,\n",
       "       0.69482422, 0.76855469, 0.80126953, 0.78295898, 0.81469727,\n",
       "       0.81640625, 0.72900391, 0.81616211, 0.83789063, 0.87670898,\n",
       "       0.87353516, 0.90795898, 0.97021484, 1.        , 0.94604492,\n",
       "       0.90209961, 0.8840332 , 0.94702148])"
      ]
     },
     "execution_count": 14,
     "metadata": {
      "tags": []
     },
     "output_type": "execute_result"
    }
   ],
   "source": [
    "y_train"
   ]
  },
  {
   "cell_type": "code",
   "execution_count": null,
   "metadata": {
    "colab": {
     "base_uri": "https://localhost:8080/",
     "height": 34
    },
    "colab_type": "code",
    "id": "MsmS1TDv9V3Y",
    "outputId": "251f9ba0-4d3b-4ed3-9996-d901771afc4c"
   },
   "outputs": [
    {
     "data": {
      "text/plain": [
       "(133, 60)"
      ]
     },
     "execution_count": 15,
     "metadata": {
      "tags": []
     },
     "output_type": "execute_result"
    }
   ],
   "source": [
    "x_train.shape"
   ]
  },
  {
   "cell_type": "code",
   "execution_count": null,
   "metadata": {
    "colab": {
     "base_uri": "https://localhost:8080/",
     "height": 34
    },
    "colab_type": "code",
    "id": "f-AUByhS9WXT",
    "outputId": "0284bcb5-921c-493b-ee72-ee9e654a25f8"
   },
   "outputs": [
    {
     "data": {
      "text/plain": [
       "(133,)"
      ]
     },
     "execution_count": 16,
     "metadata": {
      "tags": []
     },
     "output_type": "execute_result"
    }
   ],
   "source": [
    "y_train.shape"
   ]
  },
  {
   "cell_type": "code",
   "execution_count": null,
   "metadata": {
    "colab": {
     "base_uri": "https://localhost:8080/",
     "height": 850
    },
    "colab_type": "code",
    "id": "EhshEvCVBPU9",
    "outputId": "efd025cb-98a4-49aa-b8a6-2a3044fc05cf"
   },
   "outputs": [
    {
     "data": {
      "text/plain": [
       "array([[[0.01733398],\n",
       "        [0.15161133],\n",
       "        [0.12548828],\n",
       "        ...,\n",
       "        [0.51611328],\n",
       "        [0.43432617],\n",
       "        [0.5144043 ]],\n",
       "\n",
       "       [[0.15161133],\n",
       "        [0.12548828],\n",
       "        [0.15673828],\n",
       "        ...,\n",
       "        [0.43432617],\n",
       "        [0.5144043 ],\n",
       "        [0.47900391]],\n",
       "\n",
       "       [[0.12548828],\n",
       "        [0.15673828],\n",
       "        [0.17089844],\n",
       "        ...,\n",
       "        [0.5144043 ],\n",
       "        [0.47900391],\n",
       "        [0.48632813]],\n",
       "\n",
       "       ...,\n",
       "\n",
       "       [[0.52392578],\n",
       "        [0.51318359],\n",
       "        [0.51367188],\n",
       "        ...,\n",
       "        [0.97021484],\n",
       "        [1.        ],\n",
       "        [0.94604492]],\n",
       "\n",
       "       [[0.51318359],\n",
       "        [0.51367188],\n",
       "        [0.56054688],\n",
       "        ...,\n",
       "        [1.        ],\n",
       "        [0.94604492],\n",
       "        [0.90209961]],\n",
       "\n",
       "       [[0.51367188],\n",
       "        [0.56054688],\n",
       "        [0.5690918 ],\n",
       "        ...,\n",
       "        [0.94604492],\n",
       "        [0.90209961],\n",
       "        [0.8840332 ]]])"
      ]
     },
     "execution_count": 18,
     "metadata": {
      "tags": []
     },
     "output_type": "execute_result"
    }
   ],
   "source": [
    "x_train=np.reshape(x_train,(x_train.shape[0],x_train.shape[1],1))\n",
    "#x_train=np.reshape(x_train,(x_train.shape[0],x_train.shape[1],1))\n",
    "x_train\n"
   ]
  },
  {
   "cell_type": "code",
   "execution_count": null,
   "metadata": {
    "colab": {},
    "colab_type": "code",
    "id": "0-CZ-RwtDyZl"
   },
   "outputs": [],
   "source": [
    "model=Sequential()\n",
    "model.add(Bidirectional(LSTM(50, return_sequences=True),input_shape=(60,1)))\n",
    "model.add(Bidirectional(LSTM(50)))\n",
    "model.add(Dense(25))\n",
    "model.add(Dense(1))\n",
    "#model.add(Activation('softmax'))\n"
   ]
  },
  {
   "cell_type": "code",
   "execution_count": null,
   "metadata": {
    "colab": {
     "base_uri": "https://localhost:8080/",
     "height": 163
    },
    "colab_type": "code",
    "id": "zwYlieJYKoM-",
    "outputId": "e83c4a0f-2bd3-481b-d7a4-6c3c17fec525"
   },
   "outputs": [
    {
     "ename": "NameError",
     "evalue": "ignored",
     "output_type": "error",
     "traceback": [
      "\u001b[0;31m---------------------------------------------------------------------------\u001b[0m",
      "\u001b[0;31mNameError\u001b[0m                                 Traceback (most recent call last)",
      "\u001b[0;32m<ipython-input-1-e2a6b25057af>\u001b[0m in \u001b[0;36m<module>\u001b[0;34m()\u001b[0m\n\u001b[0;32m----> 1\u001b[0;31m \u001b[0mmodel\u001b[0m\u001b[0;34m.\u001b[0m\u001b[0mcompile\u001b[0m\u001b[0;34m(\u001b[0m\u001b[0mloss\u001b[0m\u001b[0;34m=\u001b[0m\u001b[0;34m'mean_squared_error'\u001b[0m\u001b[0;34m,\u001b[0m\u001b[0moptimizer\u001b[0m\u001b[0;34m=\u001b[0m\u001b[0;34m'adam'\u001b[0m\u001b[0;34m,\u001b[0m\u001b[0mmetrics\u001b[0m\u001b[0;34m=\u001b[0m\u001b[0;34m[\u001b[0m\u001b[0;34m'accuracy'\u001b[0m\u001b[0;34m]\u001b[0m\u001b[0;34m)\u001b[0m\u001b[0;34m\u001b[0m\u001b[0;34m\u001b[0m\u001b[0m\n\u001b[0m",
      "\u001b[0;31mNameError\u001b[0m: name 'model' is not defined"
     ]
    }
   ],
   "source": [
    "model.compile(loss='mean_squared_error',optimizer='adam',metrics=['accuracy'])"
   ]
  },
  {
   "cell_type": "code",
   "execution_count": null,
   "metadata": {
    "colab": {
     "base_uri": "https://localhost:8080/",
     "height": 289
    },
    "colab_type": "code",
    "id": "MirhpMjjQN1J",
    "outputId": "48042d98-6bb7-45d0-fa97-e76240a1d6b2"
   },
   "outputs": [
    {
     "name": "stdout",
     "output_type": "stream",
     "text": [
      "Model: \"sequential\"\n",
      "_________________________________________________________________\n",
      "Layer (type)                 Output Shape              Param #   \n",
      "=================================================================\n",
      "bidirectional (Bidirectional (None, 60, 100)           20800     \n",
      "_________________________________________________________________\n",
      "bidirectional_1 (Bidirection (None, 100)               60400     \n",
      "_________________________________________________________________\n",
      "dense (Dense)                (None, 25)                2525      \n",
      "_________________________________________________________________\n",
      "dense_1 (Dense)              (None, 1)                 26        \n",
      "=================================================================\n",
      "Total params: 83,751\n",
      "Trainable params: 83,751\n",
      "Non-trainable params: 0\n",
      "_________________________________________________________________\n"
     ]
    }
   ],
   "source": [
    "model.summary()"
   ]
  },
  {
   "cell_type": "code",
   "execution_count": null,
   "metadata": {
    "colab": {
     "base_uri": "https://localhost:8080/",
     "height": 1000
    },
    "colab_type": "code",
    "id": "OM84rFtpK0OB",
    "outputId": "0933863b-68a8-47a3-856d-88a889920b8b"
   },
   "outputs": [
    {
     "name": "stdout",
     "output_type": "stream",
     "text": [
      "Epoch 1/100\n",
      "133/133 [==============================] - 5s 35ms/step - loss: 0.0029 - accuracy: 0.0075\n",
      "Epoch 2/100\n",
      "133/133 [==============================] - 5s 35ms/step - loss: 0.0029 - accuracy: 0.0075\n",
      "Epoch 3/100\n",
      "133/133 [==============================] - 5s 35ms/step - loss: 0.0028 - accuracy: 0.0075\n",
      "Epoch 4/100\n",
      "133/133 [==============================] - 5s 35ms/step - loss: 0.0028 - accuracy: 0.0075\n",
      "Epoch 5/100\n",
      "133/133 [==============================] - 5s 34ms/step - loss: 0.0029 - accuracy: 0.0075\n",
      "Epoch 6/100\n",
      "133/133 [==============================] - 5s 35ms/step - loss: 0.0026 - accuracy: 0.0075\n",
      "Epoch 7/100\n",
      "133/133 [==============================] - 5s 35ms/step - loss: 0.0028 - accuracy: 0.0075\n",
      "Epoch 8/100\n",
      "133/133 [==============================] - 4s 34ms/step - loss: 0.0029 - accuracy: 0.0075\n",
      "Epoch 9/100\n",
      "133/133 [==============================] - 5s 34ms/step - loss: 0.0026 - accuracy: 0.0075\n",
      "Epoch 10/100\n",
      "133/133 [==============================] - 5s 34ms/step - loss: 0.0027 - accuracy: 0.0075\n",
      "Epoch 11/100\n",
      "133/133 [==============================] - 5s 34ms/step - loss: 0.0030 - accuracy: 0.0075\n",
      "Epoch 12/100\n",
      "133/133 [==============================] - 5s 34ms/step - loss: 0.0024 - accuracy: 0.0075\n",
      "Epoch 13/100\n",
      "133/133 [==============================] - 5s 34ms/step - loss: 0.0026 - accuracy: 0.0075\n",
      "Epoch 14/100\n",
      "133/133 [==============================] - 5s 34ms/step - loss: 0.0028 - accuracy: 0.0075\n",
      "Epoch 15/100\n",
      "133/133 [==============================] - 4s 34ms/step - loss: 0.0028 - accuracy: 0.0075\n",
      "Epoch 16/100\n",
      "133/133 [==============================] - 5s 34ms/step - loss: 0.0027 - accuracy: 0.0075\n",
      "Epoch 17/100\n",
      "133/133 [==============================] - 5s 34ms/step - loss: 0.0026 - accuracy: 0.0075\n",
      "Epoch 18/100\n",
      "133/133 [==============================] - 5s 34ms/step - loss: 0.0031 - accuracy: 0.0075\n",
      "Epoch 19/100\n",
      "133/133 [==============================] - 5s 34ms/step - loss: 0.0027 - accuracy: 0.0075\n",
      "Epoch 20/100\n",
      "133/133 [==============================] - 5s 34ms/step - loss: 0.0024 - accuracy: 0.0075\n",
      "Epoch 21/100\n",
      "133/133 [==============================] - 5s 34ms/step - loss: 0.0030 - accuracy: 0.0075\n",
      "Epoch 22/100\n",
      "133/133 [==============================] - 5s 35ms/step - loss: 0.0026 - accuracy: 0.0075\n",
      "Epoch 23/100\n",
      "133/133 [==============================] - 5s 35ms/step - loss: 0.0028 - accuracy: 0.0075\n",
      "Epoch 24/100\n",
      "133/133 [==============================] - 5s 35ms/step - loss: 0.0026 - accuracy: 0.0075\n",
      "Epoch 25/100\n",
      "133/133 [==============================] - 5s 35ms/step - loss: 0.0027 - accuracy: 0.0075\n",
      "Epoch 26/100\n",
      "133/133 [==============================] - 5s 35ms/step - loss: 0.0024 - accuracy: 0.0075\n",
      "Epoch 27/100\n",
      "133/133 [==============================] - 5s 35ms/step - loss: 0.0024 - accuracy: 0.0075\n",
      "Epoch 28/100\n",
      "133/133 [==============================] - 5s 35ms/step - loss: 0.0029 - accuracy: 0.0075\n",
      "Epoch 29/100\n",
      "133/133 [==============================] - 5s 35ms/step - loss: 0.0026 - accuracy: 0.0075\n",
      "Epoch 30/100\n",
      "133/133 [==============================] - 5s 35ms/step - loss: 0.0028 - accuracy: 0.0075\n",
      "Epoch 31/100\n",
      "133/133 [==============================] - 5s 35ms/step - loss: 0.0028 - accuracy: 0.0075\n",
      "Epoch 32/100\n",
      "133/133 [==============================] - 5s 36ms/step - loss: 0.0027 - accuracy: 0.0075\n",
      "Epoch 33/100\n",
      "133/133 [==============================] - 5s 35ms/step - loss: 0.0030 - accuracy: 0.0075\n",
      "Epoch 34/100\n",
      "133/133 [==============================] - 5s 36ms/step - loss: 0.0025 - accuracy: 0.0075\n",
      "Epoch 35/100\n",
      "133/133 [==============================] - 5s 36ms/step - loss: 0.0024 - accuracy: 0.0075\n",
      "Epoch 36/100\n",
      "133/133 [==============================] - 5s 35ms/step - loss: 0.0025 - accuracy: 0.0075\n",
      "Epoch 37/100\n",
      "133/133 [==============================] - 5s 35ms/step - loss: 0.0026 - accuracy: 0.0075\n",
      "Epoch 38/100\n",
      "133/133 [==============================] - 5s 35ms/step - loss: 0.0028 - accuracy: 0.0075\n",
      "Epoch 39/100\n",
      "133/133 [==============================] - 5s 36ms/step - loss: 0.0027 - accuracy: 0.0075\n",
      "Epoch 40/100\n",
      "133/133 [==============================] - 5s 35ms/step - loss: 0.0024 - accuracy: 0.0075\n",
      "Epoch 41/100\n",
      "133/133 [==============================] - 5s 35ms/step - loss: 0.0025 - accuracy: 0.0075\n",
      "Epoch 42/100\n",
      "133/133 [==============================] - 5s 35ms/step - loss: 0.0026 - accuracy: 0.0075\n",
      "Epoch 43/100\n",
      "133/133 [==============================] - 5s 35ms/step - loss: 0.0024 - accuracy: 0.0075\n",
      "Epoch 44/100\n",
      "133/133 [==============================] - 5s 35ms/step - loss: 0.0026 - accuracy: 0.0075\n",
      "Epoch 45/100\n",
      "133/133 [==============================] - 5s 35ms/step - loss: 0.0025 - accuracy: 0.0075\n",
      "Epoch 46/100\n",
      "133/133 [==============================] - 5s 35ms/step - loss: 0.0025 - accuracy: 0.0075\n",
      "Epoch 47/100\n",
      "133/133 [==============================] - 5s 35ms/step - loss: 0.0024 - accuracy: 0.0075\n",
      "Epoch 48/100\n",
      "133/133 [==============================] - 5s 35ms/step - loss: 0.0025 - accuracy: 0.0075\n",
      "Epoch 49/100\n",
      "133/133 [==============================] - 5s 34ms/step - loss: 0.0026 - accuracy: 0.0075\n",
      "Epoch 50/100\n",
      "133/133 [==============================] - 5s 35ms/step - loss: 0.0025 - accuracy: 0.0075\n",
      "Epoch 51/100\n",
      "133/133 [==============================] - 5s 35ms/step - loss: 0.0024 - accuracy: 0.0075\n",
      "Epoch 52/100\n",
      "133/133 [==============================] - 5s 35ms/step - loss: 0.0026 - accuracy: 0.0075\n",
      "Epoch 53/100\n",
      "133/133 [==============================] - 5s 34ms/step - loss: 0.0024 - accuracy: 0.0075\n",
      "Epoch 54/100\n",
      "133/133 [==============================] - 5s 35ms/step - loss: 0.0029 - accuracy: 0.0075\n",
      "Epoch 55/100\n",
      "133/133 [==============================] - 5s 35ms/step - loss: 0.0027 - accuracy: 0.0075\n",
      "Epoch 56/100\n",
      "133/133 [==============================] - 5s 35ms/step - loss: 0.0024 - accuracy: 0.0075\n",
      "Epoch 57/100\n",
      "133/133 [==============================] - 5s 35ms/step - loss: 0.0028 - accuracy: 0.0075\n",
      "Epoch 58/100\n",
      "133/133 [==============================] - 5s 35ms/step - loss: 0.0025 - accuracy: 0.0075\n",
      "Epoch 59/100\n",
      "133/133 [==============================] - 5s 35ms/step - loss: 0.0024 - accuracy: 0.0075\n",
      "Epoch 60/100\n",
      "133/133 [==============================] - 5s 35ms/step - loss: 0.0025 - accuracy: 0.0075\n",
      "Epoch 61/100\n",
      "133/133 [==============================] - 5s 35ms/step - loss: 0.0023 - accuracy: 0.0075\n",
      "Epoch 62/100\n",
      "133/133 [==============================] - 5s 35ms/step - loss: 0.0026 - accuracy: 0.0075\n",
      "Epoch 63/100\n",
      "133/133 [==============================] - 5s 35ms/step - loss: 0.0029 - accuracy: 0.0075\n",
      "Epoch 64/100\n",
      "133/133 [==============================] - 5s 35ms/step - loss: 0.0023 - accuracy: 0.0075\n",
      "Epoch 65/100\n",
      "133/133 [==============================] - 5s 35ms/step - loss: 0.0023 - accuracy: 0.0075\n",
      "Epoch 66/100\n",
      "133/133 [==============================] - 5s 35ms/step - loss: 0.0023 - accuracy: 0.0075\n",
      "Epoch 67/100\n",
      "133/133 [==============================] - 5s 35ms/step - loss: 0.0024 - accuracy: 0.0075\n",
      "Epoch 68/100\n",
      "133/133 [==============================] - 5s 35ms/step - loss: 0.0025 - accuracy: 0.0075\n",
      "Epoch 69/100\n",
      "133/133 [==============================] - 5s 35ms/step - loss: 0.0021 - accuracy: 0.0075\n",
      "Epoch 70/100\n",
      "133/133 [==============================] - 5s 34ms/step - loss: 0.0022 - accuracy: 0.0075\n",
      "Epoch 71/100\n",
      "133/133 [==============================] - 5s 35ms/step - loss: 0.0024 - accuracy: 0.0075\n",
      "Epoch 72/100\n",
      "133/133 [==============================] - 5s 34ms/step - loss: 0.0023 - accuracy: 0.0075\n",
      "Epoch 73/100\n",
      "133/133 [==============================] - 5s 35ms/step - loss: 0.0026 - accuracy: 0.0075\n",
      "Epoch 74/100\n",
      "133/133 [==============================] - 5s 35ms/step - loss: 0.0023 - accuracy: 0.0075\n",
      "Epoch 75/100\n",
      "133/133 [==============================] - 5s 34ms/step - loss: 0.0023 - accuracy: 0.0075\n",
      "Epoch 76/100\n",
      "133/133 [==============================] - 5s 35ms/step - loss: 0.0023 - accuracy: 0.0075\n",
      "Epoch 77/100\n",
      "133/133 [==============================] - 5s 35ms/step - loss: 0.0023 - accuracy: 0.0075\n",
      "Epoch 78/100\n",
      "133/133 [==============================] - 5s 35ms/step - loss: 0.0026 - accuracy: 0.0075\n",
      "Epoch 79/100\n",
      "133/133 [==============================] - 5s 35ms/step - loss: 0.0026 - accuracy: 0.0075\n",
      "Epoch 80/100\n",
      "133/133 [==============================] - 5s 35ms/step - loss: 0.0021 - accuracy: 0.0075\n",
      "Epoch 81/100\n",
      "133/133 [==============================] - 5s 35ms/step - loss: 0.0023 - accuracy: 0.0075\n",
      "Epoch 82/100\n",
      "133/133 [==============================] - 5s 35ms/step - loss: 0.0024 - accuracy: 0.0075\n",
      "Epoch 83/100\n",
      "133/133 [==============================] - 5s 35ms/step - loss: 0.0023 - accuracy: 0.0075\n",
      "Epoch 84/100\n",
      "133/133 [==============================] - 5s 35ms/step - loss: 0.0023 - accuracy: 0.0075\n",
      "Epoch 85/100\n",
      "133/133 [==============================] - 5s 35ms/step - loss: 0.0022 - accuracy: 0.0075\n",
      "Epoch 86/100\n",
      "133/133 [==============================] - 5s 35ms/step - loss: 0.0020 - accuracy: 0.0075\n",
      "Epoch 87/100\n",
      "133/133 [==============================] - 5s 35ms/step - loss: 0.0021 - accuracy: 0.0075\n",
      "Epoch 88/100\n",
      "133/133 [==============================] - 5s 35ms/step - loss: 0.0021 - accuracy: 0.0075\n",
      "Epoch 89/100\n",
      "133/133 [==============================] - 5s 34ms/step - loss: 0.0022 - accuracy: 0.0075\n",
      "Epoch 90/100\n",
      "133/133 [==============================] - 5s 35ms/step - loss: 0.0021 - accuracy: 0.0075\n",
      "Epoch 91/100\n",
      "133/133 [==============================] - 5s 34ms/step - loss: 0.0022 - accuracy: 0.0075\n",
      "Epoch 92/100\n",
      "133/133 [==============================] - 5s 35ms/step - loss: 0.0023 - accuracy: 0.0075\n",
      "Epoch 93/100\n",
      "133/133 [==============================] - 5s 35ms/step - loss: 0.0025 - accuracy: 0.0075\n",
      "Epoch 94/100\n",
      "133/133 [==============================] - 5s 35ms/step - loss: 0.0023 - accuracy: 0.0075\n",
      "Epoch 95/100\n",
      "133/133 [==============================] - 5s 35ms/step - loss: 0.0020 - accuracy: 0.0075\n",
      "Epoch 96/100\n",
      "133/133 [==============================] - 5s 35ms/step - loss: 0.0023 - accuracy: 0.0075\n",
      "Epoch 97/100\n",
      "133/133 [==============================] - 5s 35ms/step - loss: 0.0021 - accuracy: 0.0075\n",
      "Epoch 98/100\n",
      "133/133 [==============================] - 5s 35ms/step - loss: 0.0020 - accuracy: 0.0075\n",
      "Epoch 99/100\n",
      "133/133 [==============================] - 5s 35ms/step - loss: 0.0021 - accuracy: 0.0075\n",
      "Epoch 100/100\n",
      "133/133 [==============================] - 5s 35ms/step - loss: 0.0019 - accuracy: 0.0075\n"
     ]
    },
    {
     "data": {
      "text/plain": [
       "<tensorflow.python.keras.callbacks.History at 0x7fba44478dd8>"
      ]
     },
     "execution_count": 20,
     "metadata": {
      "tags": []
     },
     "output_type": "execute_result"
    }
   ],
   "source": [
    "model.fit(x_train,y_train,batch_size=1,epochs=100)"
   ]
  },
  {
   "cell_type": "code",
   "execution_count": null,
   "metadata": {
    "colab": {},
    "colab_type": "code",
    "id": "9GO6y7mVNcKS"
   },
   "outputs": [],
   "source": [
    "#create test data\n",
    "test_data=scaled_data[training_data_length-60:,:]\n",
    "x_test=[]\n",
    "y_test=dataset[training_data_length:,:]\n",
    "\n",
    "for i in range(60,len(test_data)):\n",
    "  x_test.append(test_data[i-60:i,0])\n",
    "\n",
    "x_test=np.array(x_test)\n",
    "  "
   ]
  },
  {
   "cell_type": "code",
   "execution_count": null,
   "metadata": {
    "colab": {},
    "colab_type": "code",
    "id": "t1i2HadKPEtr"
   },
   "outputs": [],
   "source": [
    "x_test=np.reshape(x_test,(x_test.shape[0],x_test.shape[1],1))"
   ]
  },
  {
   "cell_type": "code",
   "execution_count": null,
   "metadata": {
    "colab": {
     "base_uri": "https://localhost:8080/",
     "height": 34
    },
    "colab_type": "code",
    "id": "7_c7gmKFQ1ZZ",
    "outputId": "2738df96-51d6-4fba-eff4-331539eae887"
   },
   "outputs": [
    {
     "data": {
      "text/plain": [
       "(49, 60, 1)"
      ]
     },
     "execution_count": 23,
     "metadata": {
      "tags": []
     },
     "output_type": "execute_result"
    }
   ],
   "source": [
    "x_test.shape"
   ]
  },
  {
   "cell_type": "code",
   "execution_count": null,
   "metadata": {
    "colab": {},
    "colab_type": "code",
    "id": "ic1zE3DlPrv4"
   },
   "outputs": [],
   "source": [
    "prediction=model.predict(x_test)\n",
    "prediction=scaler.inverse_transform(prediction) #to convert data from one hot encoding to original format"
   ]
  },
  {
   "cell_type": "code",
   "execution_count": null,
   "metadata": {
    "colab": {
     "base_uri": "https://localhost:8080/",
     "height": 34
    },
    "colab_type": "code",
    "id": "pk4UuHRZQih-",
    "outputId": "9f667196-61b4-41c8-f175-eb92b23230c1"
   },
   "outputs": [
    {
     "data": {
      "text/plain": [
       "(49, 1)"
      ]
     },
     "execution_count": 25,
     "metadata": {
      "tags": []
     },
     "output_type": "execute_result"
    }
   ],
   "source": [
    "prediction.shape"
   ]
  },
  {
   "cell_type": "code",
   "execution_count": null,
   "metadata": {
    "colab": {
     "base_uri": "https://localhost:8080/",
     "height": 34
    },
    "colab_type": "code",
    "id": "HIYY32oOQpnG",
    "outputId": "82513f11-1377-49f4-cd64-f4dafa0e27d4"
   },
   "outputs": [
    {
     "data": {
      "text/plain": [
       "(49, 1)"
      ]
     },
     "execution_count": 26,
     "metadata": {
      "tags": []
     },
     "output_type": "execute_result"
    }
   ],
   "source": []
  },
  {
   "cell_type": "code",
   "execution_count": null,
   "metadata": {
    "colab": {
     "base_uri": "https://localhost:8080/",
     "height": 34
    },
    "colab_type": "code",
    "id": "3XNmFggVP7wu",
    "outputId": "1b8fc27c-7a1f-40bc-cfc9-3fee06954b33"
   },
   "outputs": [
    {
     "name": "stdout",
     "output_type": "stream",
     "text": [
      "Testing error is 28.958353834489245\n"
     ]
    }
   ],
   "source": []
  },
  {
   "cell_type": "code",
   "execution_count": null,
   "metadata": {
    "colab": {
     "base_uri": "https://localhost:8080/",
     "height": 720
    },
    "colab_type": "code",
    "id": "FfwGnLrTXlfq",
    "outputId": "2e1cda92-eb81-4051-ac8a-8eec25d62678"
   },
   "outputs": [
    {
     "name": "stderr",
     "output_type": "stream",
     "text": [
      "/usr/local/lib/python3.6/dist-packages/ipykernel_launcher.py:3: SettingWithCopyWarning: \n",
      "A value is trying to be set on a copy of a slice from a DataFrame.\n",
      "Try using .loc[row_indexer,col_indexer] = value instead\n",
      "\n",
      "See the caveats in the documentation: https://pandas.pydata.org/pandas-docs/stable/user_guide/indexing.html#returning-a-view-versus-a-copy\n",
      "  This is separate from the ipykernel package so we can avoid doing imports until\n",
      "/usr/local/lib/python3.6/dist-packages/ipykernel_launcher.py:10: MatplotlibDeprecationWarning: Unrecognized location 'Lower right'. Falling back on 'best'; valid locations are\n",
      "\tbest\n",
      "\tupper right\n",
      "\tupper left\n",
      "\tlower left\n",
      "\tlower right\n",
      "\tright\n",
      "\tcenter left\n",
      "\tcenter right\n",
      "\tlower center\n",
      "\tupper center\n",
      "\tcenter\n",
      "This will raise an exception in 3.3.\n",
      "  # Remove the CWD from sys.path while we load stuff.\n"
     ]
    },
    {
     "data": {
      "image/png": "[encoded data removed]",
      "text/plain": [
       "<Figure size 1080x360 with 1 Axes>"
      ]
     },
     "metadata": {
      "tags": []
     },
     "output_type": "display_data"
    }
   ],
   "source": []
  },
  {
   "cell_type": "code",
   "execution_count": null,
   "metadata": {
    "colab": {
     "base_uri": "https://localhost:8080/",
     "height": 1000
    },
    "colab_type": "code",
    "id": "Tj33UDcIZ6SW",
    "outputId": "c7a20746-b1c6-4537-db38-5f6d6e3f1bf0",
    "scrolled": true
   },
   "outputs": [
    {
     "name": "stderr",
     "output_type": "stream",
     "text": [
      "/usr/local/lib/python3.6/dist-packages/ipykernel_launcher.py:1: SettingWithCopyWarning: \n",
      "A value is trying to be set on a copy of a slice from a DataFrame.\n",
      "Try using .loc[row_indexer,col_indexer] = value instead\n",
      "\n",
      "See the caveats in the documentation: https://pandas.pydata.org/pandas-docs/stable/user_guide/indexing.html#returning-a-view-versus-a-copy\n",
      "  \"\"\"Entry point for launching an IPython kernel.\n"
     ]
    },
    {
     "data": {
      "text/html": [
       "<div>\n",
       "<style scoped>\n",
       "    .dataframe tbody tr th:only-of-type {\n",
       "        vertical-align: middle;\n",
       "    }\n",
       "\n",
       "    .dataframe tbody tr th {\n",
       "        vertical-align: top;\n",
       "    }\n",
       "\n",
       "    .dataframe thead th {\n",
       "        text-align: right;\n",
       "    }\n",
       "</style>\n",
       "<table border=\"1\" class=\"dataframe\">\n",
       "  <thead>\n",
       "    <tr style=\"text-align: right;\">\n",
       "      <th></th>\n",
       "      <th>Close</th>\n",
       "      <th>Prediction</th>\n",
       "      <th>Date</th>\n",
       "    </tr>\n",
       "  </thead>\n",
       "  <tbody>\n",
       "    <tr>\n",
       "      <th>193</th>\n",
       "      <td>827.70</td>\n",
       "      <td>823.694702</td>\n",
       "      <td>9/16/2019</td>\n",
       "    </tr>\n",
       "    <tr>\n",
       "      <th>194</th>\n",
       "      <td>831.25</td>\n",
       "      <td>822.197754</td>\n",
       "      <td>9/17/2019</td>\n",
       "    </tr>\n",
       "    <tr>\n",
       "      <th>195</th>\n",
       "      <td>829.85</td>\n",
       "      <td>824.412720</td>\n",
       "      <td>9/18/2019</td>\n",
       "    </tr>\n",
       "    <tr>\n",
       "      <th>196</th>\n",
       "      <td>820.70</td>\n",
       "      <td>820.372742</td>\n",
       "      <td>9/19/2019</td>\n",
       "    </tr>\n",
       "    <tr>\n",
       "      <th>197</th>\n",
       "      <td>805.00</td>\n",
       "      <td>810.843140</td>\n",
       "      <td>9/20/2019</td>\n",
       "    </tr>\n",
       "    <tr>\n",
       "      <th>198</th>\n",
       "      <td>764.35</td>\n",
       "      <td>800.988708</td>\n",
       "      <td>9/23/2019</td>\n",
       "    </tr>\n",
       "    <tr>\n",
       "      <th>199</th>\n",
       "      <td>794.05</td>\n",
       "      <td>779.833618</td>\n",
       "      <td>9/24/2019</td>\n",
       "    </tr>\n",
       "    <tr>\n",
       "      <th>200</th>\n",
       "      <td>792.65</td>\n",
       "      <td>797.843872</td>\n",
       "      <td>9/25/2019</td>\n",
       "    </tr>\n",
       "    <tr>\n",
       "      <th>201</th>\n",
       "      <td>782.55</td>\n",
       "      <td>797.929565</td>\n",
       "      <td>9/26/2019</td>\n",
       "    </tr>\n",
       "    <tr>\n",
       "      <th>202</th>\n",
       "      <td>782.20</td>\n",
       "      <td>790.612671</td>\n",
       "      <td>9/27/2019</td>\n",
       "    </tr>\n",
       "    <tr>\n",
       "      <th>203</th>\n",
       "      <td>805.65</td>\n",
       "      <td>791.057007</td>\n",
       "      <td>9/30/2019</td>\n",
       "    </tr>\n",
       "    <tr>\n",
       "      <th>204</th>\n",
       "      <td>793.55</td>\n",
       "      <td>800.019653</td>\n",
       "      <td>10/1/2019</td>\n",
       "    </tr>\n",
       "    <tr>\n",
       "      <th>205</th>\n",
       "      <td>785.60</td>\n",
       "      <td>789.476196</td>\n",
       "      <td>10/3/2019</td>\n",
       "    </tr>\n",
       "    <tr>\n",
       "      <th>206</th>\n",
       "      <td>793.45</td>\n",
       "      <td>781.003784</td>\n",
       "      <td>10/4/2019</td>\n",
       "    </tr>\n",
       "    <tr>\n",
       "      <th>207</th>\n",
       "      <td>789.55</td>\n",
       "      <td>783.793762</td>\n",
       "      <td>10/7/2019</td>\n",
       "    </tr>\n",
       "    <tr>\n",
       "      <th>208</th>\n",
       "      <td>783.65</td>\n",
       "      <td>781.520020</td>\n",
       "      <td>10/9/2019</td>\n",
       "    </tr>\n",
       "    <tr>\n",
       "      <th>209</th>\n",
       "      <td>783.05</td>\n",
       "      <td>778.153137</td>\n",
       "      <td>10/10/2019</td>\n",
       "    </tr>\n",
       "    <tr>\n",
       "      <th>210</th>\n",
       "      <td>814.80</td>\n",
       "      <td>778.423706</td>\n",
       "      <td>10/11/2019</td>\n",
       "    </tr>\n",
       "    <tr>\n",
       "      <th>211</th>\n",
       "      <td>786.10</td>\n",
       "      <td>792.794128</td>\n",
       "      <td>10/14/2019</td>\n",
       "    </tr>\n",
       "    <tr>\n",
       "      <th>212</th>\n",
       "      <td>768.30</td>\n",
       "      <td>774.918579</td>\n",
       "      <td>10/15/2019</td>\n",
       "    </tr>\n",
       "    <tr>\n",
       "      <th>213</th>\n",
       "      <td>771.45</td>\n",
       "      <td>763.083862</td>\n",
       "      <td>10/16/2019</td>\n",
       "    </tr>\n",
       "    <tr>\n",
       "      <th>214</th>\n",
       "      <td>769.50</td>\n",
       "      <td>761.955750</td>\n",
       "      <td>10/17/2019</td>\n",
       "    </tr>\n",
       "    <tr>\n",
       "      <th>215</th>\n",
       "      <td>767.85</td>\n",
       "      <td>758.857361</td>\n",
       "      <td>10/18/2019</td>\n",
       "    </tr>\n",
       "    <tr>\n",
       "      <th>216</th>\n",
       "      <td>643.55</td>\n",
       "      <td>757.242493</td>\n",
       "      <td>10/22/2019</td>\n",
       "    </tr>\n",
       "    <tr>\n",
       "      <th>217</th>\n",
       "      <td>650.60</td>\n",
       "      <td>682.337891</td>\n",
       "      <td>10/23/2019</td>\n",
       "    </tr>\n",
       "    <tr>\n",
       "      <th>218</th>\n",
       "      <td>635.35</td>\n",
       "      <td>663.814514</td>\n",
       "      <td>10/24/2019</td>\n",
       "    </tr>\n",
       "    <tr>\n",
       "      <th>219</th>\n",
       "      <td>637.45</td>\n",
       "      <td>656.885803</td>\n",
       "      <td>10/25/2019</td>\n",
       "    </tr>\n",
       "    <tr>\n",
       "      <th>220</th>\n",
       "      <td>648.85</td>\n",
       "      <td>672.265686</td>\n",
       "      <td>10/27/2019</td>\n",
       "    </tr>\n",
       "    <tr>\n",
       "      <th>221</th>\n",
       "      <td>650.65</td>\n",
       "      <td>697.065674</td>\n",
       "      <td>10/29/2019</td>\n",
       "    </tr>\n",
       "    <tr>\n",
       "      <th>222</th>\n",
       "      <td>660.60</td>\n",
       "      <td>718.306213</td>\n",
       "      <td>10/30/2019</td>\n",
       "    </tr>\n",
       "    <tr>\n",
       "      <th>223</th>\n",
       "      <td>685.60</td>\n",
       "      <td>735.029358</td>\n",
       "      <td>10/31/2019</td>\n",
       "    </tr>\n",
       "    <tr>\n",
       "      <th>224</th>\n",
       "      <td>687.90</td>\n",
       "      <td>754.910278</td>\n",
       "      <td>11/1/2019</td>\n",
       "    </tr>\n",
       "    <tr>\n",
       "      <th>225</th>\n",
       "      <td>709.00</td>\n",
       "      <td>747.063660</td>\n",
       "      <td>11/4/2019</td>\n",
       "    </tr>\n",
       "    <tr>\n",
       "      <th>226</th>\n",
       "      <td>696.10</td>\n",
       "      <td>748.975586</td>\n",
       "      <td>11/5/2019</td>\n",
       "    </tr>\n",
       "    <tr>\n",
       "      <th>227</th>\n",
       "      <td>712.30</td>\n",
       "      <td>728.868164</td>\n",
       "      <td>11/6/2019</td>\n",
       "    </tr>\n",
       "    <tr>\n",
       "      <th>228</th>\n",
       "      <td>720.10</td>\n",
       "      <td>738.323792</td>\n",
       "      <td>11/7/2019</td>\n",
       "    </tr>\n",
       "    <tr>\n",
       "      <th>229</th>\n",
       "      <td>708.15</td>\n",
       "      <td>741.861267</td>\n",
       "      <td>11/8/2019</td>\n",
       "    </tr>\n",
       "    <tr>\n",
       "      <th>230</th>\n",
       "      <td>704.40</td>\n",
       "      <td>730.588196</td>\n",
       "      <td>11/11/2019</td>\n",
       "    </tr>\n",
       "    <tr>\n",
       "      <th>231</th>\n",
       "      <td>691.35</td>\n",
       "      <td>724.125122</td>\n",
       "      <td>11/13/2019</td>\n",
       "    </tr>\n",
       "    <tr>\n",
       "      <th>232</th>\n",
       "      <td>705.30</td>\n",
       "      <td>701.570862</td>\n",
       "      <td>11/14/2019</td>\n",
       "    </tr>\n",
       "    <tr>\n",
       "      <th>233</th>\n",
       "      <td>703.90</td>\n",
       "      <td>705.397705</td>\n",
       "      <td>11/15/2019</td>\n",
       "    </tr>\n",
       "    <tr>\n",
       "      <th>234</th>\n",
       "      <td>705.20</td>\n",
       "      <td>700.680054</td>\n",
       "      <td>11/18/2019</td>\n",
       "    </tr>\n",
       "    <tr>\n",
       "      <th>235</th>\n",
       "      <td>712.85</td>\n",
       "      <td>696.903381</td>\n",
       "      <td>11/19/2019</td>\n",
       "    </tr>\n",
       "    <tr>\n",
       "      <th>236</th>\n",
       "      <td>713.00</td>\n",
       "      <td>700.478210</td>\n",
       "      <td>11/20/2019</td>\n",
       "    </tr>\n",
       "    <tr>\n",
       "      <th>237</th>\n",
       "      <td>713.25</td>\n",
       "      <td>698.596130</td>\n",
       "      <td>11/21/2019</td>\n",
       "    </tr>\n",
       "    <tr>\n",
       "      <th>238</th>\n",
       "      <td>693.20</td>\n",
       "      <td>695.620667</td>\n",
       "      <td>11/22/2019</td>\n",
       "    </tr>\n",
       "    <tr>\n",
       "      <th>239</th>\n",
       "      <td>698.10</td>\n",
       "      <td>681.168579</td>\n",
       "      <td>11/25/2019</td>\n",
       "    </tr>\n",
       "    <tr>\n",
       "      <th>240</th>\n",
       "      <td>690.60</td>\n",
       "      <td>685.182739</td>\n",
       "      <td>11/26/2019</td>\n",
       "    </tr>\n",
       "    <tr>\n",
       "      <th>241</th>\n",
       "      <td>695.75</td>\n",
       "      <td>684.593445</td>\n",
       "      <td>11/27/2019</td>\n",
       "    </tr>\n",
       "  </tbody>\n",
       "</table>\n",
       "</div>"
      ],
      "text/plain": [
       "      Close  Prediction        Date\n",
       "193  827.70  823.694702   9/16/2019\n",
       "194  831.25  822.197754   9/17/2019\n",
       "195  829.85  824.412720   9/18/2019\n",
       "196  820.70  820.372742   9/19/2019\n",
       "197  805.00  810.843140   9/20/2019\n",
       "198  764.35  800.988708   9/23/2019\n",
       "199  794.05  779.833618   9/24/2019\n",
       "200  792.65  797.843872   9/25/2019\n",
       "201  782.55  797.929565   9/26/2019\n",
       "202  782.20  790.612671   9/27/2019\n",
       "203  805.65  791.057007   9/30/2019\n",
       "204  793.55  800.019653   10/1/2019\n",
       "205  785.60  789.476196   10/3/2019\n",
       "206  793.45  781.003784   10/4/2019\n",
       "207  789.55  783.793762   10/7/2019\n",
       "208  783.65  781.520020   10/9/2019\n",
       "209  783.05  778.153137  10/10/2019\n",
       "210  814.80  778.423706  10/11/2019\n",
       "211  786.10  792.794128  10/14/2019\n",
       "212  768.30  774.918579  10/15/2019\n",
       "213  771.45  763.083862  10/16/2019\n",
       "214  769.50  761.955750  10/17/2019\n",
       "215  767.85  758.857361  10/18/2019\n",
       "216  643.55  757.242493  10/22/2019\n",
       "217  650.60  682.337891  10/23/2019\n",
       "218  635.35  663.814514  10/24/2019\n",
       "219  637.45  656.885803  10/25/2019\n",
       "220  648.85  672.265686  10/27/2019\n",
       "221  650.65  697.065674  10/29/2019\n",
       "222  660.60  718.306213  10/30/2019\n",
       "223  685.60  735.029358  10/31/2019\n",
       "224  687.90  754.910278   11/1/2019\n",
       "225  709.00  747.063660   11/4/2019\n",
       "226  696.10  748.975586   11/5/2019\n",
       "227  712.30  728.868164   11/6/2019\n",
       "228  720.10  738.323792   11/7/2019\n",
       "229  708.15  741.861267   11/8/2019\n",
       "230  704.40  730.588196  11/11/2019\n",
       "231  691.35  724.125122  11/13/2019\n",
       "232  705.30  701.570862  11/14/2019\n",
       "233  703.90  705.397705  11/15/2019\n",
       "234  705.20  700.680054  11/18/2019\n",
       "235  712.85  696.903381  11/19/2019\n",
       "236  713.00  700.478210  11/20/2019\n",
       "237  713.25  698.596130  11/21/2019\n",
       "238  693.20  695.620667  11/22/2019\n",
       "239  698.10  681.168579  11/25/2019\n",
       "240  690.60  685.182739  11/26/2019\n",
       "241  695.75  684.593445  11/27/2019"
      ]
     },
     "execution_count": 29,
     "metadata": {
      "tags": []
     },
     "output_type": "execute_result"
    }
   ],
   "source": []
  },
  {
   "cell_type": "code",
   "execution_count": null,
   "metadata": {
    "colab": {},
    "colab_type": "code",
    "id": "5uX65mC2pF_x"
   },
   "outputs": [],
   "source": [
    "from tensorflow.keras.layers import GRU\n",
    "\n",
    "model2=Sequential()\n",
    "model2.add(GRU(50,return_sequences=True,input_shape=(60,1)))\n",
    "model2.add(GRU(50))\n",
    "model2.add(Dense(25))\n",
    "model2.add(Dense(1))\n",
    "#model2.add(Activation('softmax'))\n"
   ]
  },
  {
   "cell_type": "code",
   "execution_count": null,
   "metadata": {
    "colab": {},
    "colab_type": "code",
    "id": "zI3AuGiMqwHe"
   },
   "outputs": [],
   "source": [
    "model2.compile(loss='mean_squared_error',optimizer='adam',metrics=['accuracy'])"
   ]
  },
  {
   "cell_type": "code",
   "execution_count": null,
   "metadata": {
    "colab": {
     "base_uri": "https://localhost:8080/",
     "height": 1000
    },
    "colab_type": "code",
    "id": "bxxsLKsHq8hP",
    "outputId": "36f0c2e7-5b82-414d-9793-ccd45a97d7c9"
   },
   "outputs": [
    {
     "name": "stdout",
     "output_type": "stream",
     "text": [
      "Epoch 1/100\n",
      "133/133 [==============================] - 3s 24ms/step - loss: 0.0154 - accuracy: 0.0075\n",
      "Epoch 2/100\n",
      "133/133 [==============================] - 3s 24ms/step - loss: 0.0051 - accuracy: 0.0075\n",
      "Epoch 3/100\n",
      "133/133 [==============================] - 3s 23ms/step - loss: 0.0051 - accuracy: 0.0075\n",
      "Epoch 4/100\n",
      "133/133 [==============================] - 3s 23ms/step - loss: 0.0040 - accuracy: 0.0075\n",
      "Epoch 5/100\n",
      "133/133 [==============================] - 3s 23ms/step - loss: 0.0039 - accuracy: 0.0075\n",
      "Epoch 6/100\n",
      "133/133 [==============================] - 3s 23ms/step - loss: 0.0037 - accuracy: 0.0075\n",
      "Epoch 7/100\n",
      "133/133 [==============================] - 3s 23ms/step - loss: 0.0042 - accuracy: 0.0075\n",
      "Epoch 8/100\n",
      "133/133 [==============================] - 3s 23ms/step - loss: 0.0030 - accuracy: 0.0075\n",
      "Epoch 9/100\n",
      "133/133 [==============================] - 3s 23ms/step - loss: 0.0033 - accuracy: 0.0075\n",
      "Epoch 10/100\n",
      "133/133 [==============================] - 3s 23ms/step - loss: 0.0037 - accuracy: 0.0075\n",
      "Epoch 11/100\n",
      "133/133 [==============================] - 3s 23ms/step - loss: 0.0032 - accuracy: 0.0075\n",
      "Epoch 12/100\n",
      "133/133 [==============================] - 3s 23ms/step - loss: 0.0029 - accuracy: 0.0075\n",
      "Epoch 13/100\n",
      "133/133 [==============================] - 3s 22ms/step - loss: 0.0037 - accuracy: 0.0075\n",
      "Epoch 14/100\n",
      "133/133 [==============================] - 3s 23ms/step - loss: 0.0030 - accuracy: 0.0075\n",
      "Epoch 15/100\n",
      "133/133 [==============================] - 3s 22ms/step - loss: 0.0038 - accuracy: 0.0075\n",
      "Epoch 16/100\n",
      "133/133 [==============================] - 3s 22ms/step - loss: 0.0037 - accuracy: 0.0075\n",
      "Epoch 17/100\n",
      "133/133 [==============================] - 3s 22ms/step - loss: 0.0030 - accuracy: 0.0075\n",
      "Epoch 18/100\n",
      "133/133 [==============================] - 3s 22ms/step - loss: 0.0031 - accuracy: 0.0075\n",
      "Epoch 19/100\n",
      "133/133 [==============================] - 3s 23ms/step - loss: 0.0035 - accuracy: 0.0075\n",
      "Epoch 20/100\n",
      "133/133 [==============================] - 3s 24ms/step - loss: 0.0030 - accuracy: 0.0075\n",
      "Epoch 21/100\n",
      "133/133 [==============================] - 3s 24ms/step - loss: 0.0032 - accuracy: 0.0075\n",
      "Epoch 22/100\n",
      "133/133 [==============================] - 3s 23ms/step - loss: 0.0027 - accuracy: 0.0075\n",
      "Epoch 23/100\n",
      "133/133 [==============================] - 3s 24ms/step - loss: 0.0031 - accuracy: 0.0075\n",
      "Epoch 24/100\n",
      "133/133 [==============================] - 3s 24ms/step - loss: 0.0031 - accuracy: 0.0075\n",
      "Epoch 25/100\n",
      "133/133 [==============================] - 3s 24ms/step - loss: 0.0031 - accuracy: 0.0075\n",
      "Epoch 26/100\n",
      "133/133 [==============================] - 3s 23ms/step - loss: 0.0033 - accuracy: 0.0075\n",
      "Epoch 27/100\n",
      "133/133 [==============================] - 3s 23ms/step - loss: 0.0036 - accuracy: 0.0075\n",
      "Epoch 28/100\n",
      "133/133 [==============================] - 3s 24ms/step - loss: 0.0034 - accuracy: 0.0075\n",
      "Epoch 29/100\n",
      "133/133 [==============================] - 3s 23ms/step - loss: 0.0029 - accuracy: 0.0075\n",
      "Epoch 30/100\n",
      "133/133 [==============================] - 3s 23ms/step - loss: 0.0029 - accuracy: 0.0075\n",
      "Epoch 31/100\n",
      "133/133 [==============================] - 3s 24ms/step - loss: 0.0028 - accuracy: 0.0075\n",
      "Epoch 32/100\n",
      "133/133 [==============================] - 3s 23ms/step - loss: 0.0032 - accuracy: 0.0075\n",
      "Epoch 33/100\n",
      "133/133 [==============================] - 3s 23ms/step - loss: 0.0032 - accuracy: 0.0075\n",
      "Epoch 34/100\n",
      "133/133 [==============================] - 3s 23ms/step - loss: 0.0031 - accuracy: 0.0075\n",
      "Epoch 35/100\n",
      "133/133 [==============================] - 3s 24ms/step - loss: 0.0036 - accuracy: 0.0075\n",
      "Epoch 36/100\n",
      "133/133 [==============================] - 3s 23ms/step - loss: 0.0033 - accuracy: 0.0075\n",
      "Epoch 37/100\n",
      "133/133 [==============================] - 3s 22ms/step - loss: 0.0029 - accuracy: 0.0075\n",
      "Epoch 38/100\n",
      "133/133 [==============================] - 3s 22ms/step - loss: 0.0036 - accuracy: 0.0075\n",
      "Epoch 39/100\n",
      "133/133 [==============================] - 3s 22ms/step - loss: 0.0031 - accuracy: 0.0075\n",
      "Epoch 40/100\n",
      "133/133 [==============================] - 3s 22ms/step - loss: 0.0029 - accuracy: 0.0075\n",
      "Epoch 41/100\n",
      "133/133 [==============================] - 3s 22ms/step - loss: 0.0029 - accuracy: 0.0075\n",
      "Epoch 42/100\n",
      "133/133 [==============================] - 3s 22ms/step - loss: 0.0028 - accuracy: 0.0075\n",
      "Epoch 43/100\n",
      "133/133 [==============================] - 3s 22ms/step - loss: 0.0028 - accuracy: 0.0075\n",
      "Epoch 44/100\n",
      "133/133 [==============================] - 3s 22ms/step - loss: 0.0032 - accuracy: 0.0075\n",
      "Epoch 45/100\n",
      "133/133 [==============================] - 3s 22ms/step - loss: 0.0025 - accuracy: 0.0075\n",
      "Epoch 46/100\n",
      "133/133 [==============================] - 3s 22ms/step - loss: 0.0029 - accuracy: 0.0075\n",
      "Epoch 47/100\n",
      "133/133 [==============================] - 3s 22ms/step - loss: 0.0031 - accuracy: 0.0075\n",
      "Epoch 48/100\n",
      "133/133 [==============================] - 3s 22ms/step - loss: 0.0035 - accuracy: 0.0075\n",
      "Epoch 49/100\n",
      "133/133 [==============================] - 3s 22ms/step - loss: 0.0030 - accuracy: 0.0075\n",
      "Epoch 50/100\n",
      "133/133 [==============================] - 3s 22ms/step - loss: 0.0038 - accuracy: 0.0075\n",
      "Epoch 51/100\n",
      "133/133 [==============================] - 3s 22ms/step - loss: 0.0029 - accuracy: 0.0075\n",
      "Epoch 52/100\n",
      "133/133 [==============================] - 3s 22ms/step - loss: 0.0029 - accuracy: 0.0075\n",
      "Epoch 53/100\n",
      "133/133 [==============================] - 3s 22ms/step - loss: 0.0031 - accuracy: 0.0075\n",
      "Epoch 54/100\n",
      "133/133 [==============================] - 3s 22ms/step - loss: 0.0032 - accuracy: 0.0075\n",
      "Epoch 55/100\n",
      "133/133 [==============================] - 3s 22ms/step - loss: 0.0028 - accuracy: 0.0075\n",
      "Epoch 56/100\n",
      "133/133 [==============================] - 3s 22ms/step - loss: 0.0031 - accuracy: 0.0075\n",
      "Epoch 57/100\n",
      "133/133 [==============================] - 3s 22ms/step - loss: 0.0026 - accuracy: 0.0075\n",
      "Epoch 58/100\n",
      "133/133 [==============================] - 3s 22ms/step - loss: 0.0029 - accuracy: 0.0075\n",
      "Epoch 59/100\n",
      "133/133 [==============================] - 3s 23ms/step - loss: 0.0027 - accuracy: 0.0075\n",
      "Epoch 60/100\n",
      "133/133 [==============================] - 3s 23ms/step - loss: 0.0028 - accuracy: 0.0075\n",
      "Epoch 61/100\n",
      "133/133 [==============================] - 3s 22ms/step - loss: 0.0030 - accuracy: 0.0075\n",
      "Epoch 62/100\n",
      "133/133 [==============================] - 3s 22ms/step - loss: 0.0029 - accuracy: 0.0075\n",
      "Epoch 63/100\n",
      "133/133 [==============================] - 3s 22ms/step - loss: 0.0031 - accuracy: 0.0075\n",
      "Epoch 64/100\n",
      "133/133 [==============================] - 3s 22ms/step - loss: 0.0028 - accuracy: 0.0075\n",
      "Epoch 65/100\n",
      "133/133 [==============================] - 3s 22ms/step - loss: 0.0027 - accuracy: 0.0075\n",
      "Epoch 66/100\n",
      "133/133 [==============================] - 3s 22ms/step - loss: 0.0027 - accuracy: 0.0075\n",
      "Epoch 67/100\n",
      "133/133 [==============================] - 3s 23ms/step - loss: 0.0031 - accuracy: 0.0075\n",
      "Epoch 68/100\n",
      "133/133 [==============================] - 3s 22ms/step - loss: 0.0029 - accuracy: 0.0075\n",
      "Epoch 69/100\n",
      "133/133 [==============================] - 3s 22ms/step - loss: 0.0027 - accuracy: 0.0075\n",
      "Epoch 70/100\n",
      "133/133 [==============================] - 3s 22ms/step - loss: 0.0030 - accuracy: 0.0075\n",
      "Epoch 71/100\n",
      "133/133 [==============================] - 3s 22ms/step - loss: 0.0031 - accuracy: 0.0075\n",
      "Epoch 72/100\n",
      "133/133 [==============================] - 3s 23ms/step - loss: 0.0029 - accuracy: 0.0075\n",
      "Epoch 73/100\n",
      "133/133 [==============================] - 3s 23ms/step - loss: 0.0028 - accuracy: 0.0075\n",
      "Epoch 74/100\n",
      "133/133 [==============================] - 3s 24ms/step - loss: 0.0028 - accuracy: 0.0075\n",
      "Epoch 75/100\n",
      "133/133 [==============================] - 3s 23ms/step - loss: 0.0028 - accuracy: 0.0075\n",
      "Epoch 76/100\n",
      "133/133 [==============================] - 3s 23ms/step - loss: 0.0032 - accuracy: 0.0075\n",
      "Epoch 77/100\n",
      "133/133 [==============================] - 3s 23ms/step - loss: 0.0032 - accuracy: 0.0075\n",
      "Epoch 78/100\n",
      "133/133 [==============================] - 3s 23ms/step - loss: 0.0031 - accuracy: 0.0075\n",
      "Epoch 79/100\n",
      "133/133 [==============================] - 3s 23ms/step - loss: 0.0027 - accuracy: 0.0075\n",
      "Epoch 80/100\n",
      "133/133 [==============================] - 3s 23ms/step - loss: 0.0026 - accuracy: 0.0075\n",
      "Epoch 81/100\n",
      "133/133 [==============================] - 3s 22ms/step - loss: 0.0029 - accuracy: 0.0075\n",
      "Epoch 82/100\n",
      "133/133 [==============================] - 3s 22ms/step - loss: 0.0030 - accuracy: 0.0075\n",
      "Epoch 83/100\n",
      "133/133 [==============================] - 3s 22ms/step - loss: 0.0027 - accuracy: 0.0075\n",
      "Epoch 84/100\n",
      "133/133 [==============================] - 3s 22ms/step - loss: 0.0030 - accuracy: 0.0075\n",
      "Epoch 85/100\n",
      "133/133 [==============================] - 3s 22ms/step - loss: 0.0032 - accuracy: 0.0075\n",
      "Epoch 86/100\n",
      "133/133 [==============================] - 3s 22ms/step - loss: 0.0026 - accuracy: 0.0075\n",
      "Epoch 87/100\n",
      "133/133 [==============================] - 3s 22ms/step - loss: 0.0027 - accuracy: 0.0075\n",
      "Epoch 88/100\n",
      "133/133 [==============================] - 3s 22ms/step - loss: 0.0031 - accuracy: 0.0075\n",
      "Epoch 89/100\n",
      "133/133 [==============================] - 3s 22ms/step - loss: 0.0025 - accuracy: 0.0075\n",
      "Epoch 90/100\n",
      "133/133 [==============================] - 3s 22ms/step - loss: 0.0029 - accuracy: 0.0075\n",
      "Epoch 91/100\n",
      "133/133 [==============================] - 3s 22ms/step - loss: 0.0028 - accuracy: 0.0075\n",
      "Epoch 92/100\n",
      "133/133 [==============================] - 3s 22ms/step - loss: 0.0029 - accuracy: 0.0075\n",
      "Epoch 93/100\n",
      "133/133 [==============================] - 3s 22ms/step - loss: 0.0026 - accuracy: 0.0075\n",
      "Epoch 94/100\n",
      "133/133 [==============================] - 3s 22ms/step - loss: 0.0031 - accuracy: 0.0075\n",
      "Epoch 95/100\n",
      "133/133 [==============================] - 3s 22ms/step - loss: 0.0026 - accuracy: 0.0075\n",
      "Epoch 96/100\n",
      "133/133 [==============================] - 3s 22ms/step - loss: 0.0027 - accuracy: 0.0075\n",
      "Epoch 97/100\n",
      "133/133 [==============================] - 3s 22ms/step - loss: 0.0026 - accuracy: 0.0075\n",
      "Epoch 98/100\n",
      "133/133 [==============================] - 3s 22ms/step - loss: 0.0028 - accuracy: 0.0075\n",
      "Epoch 99/100\n",
      "133/133 [==============================] - 3s 23ms/step - loss: 0.0026 - accuracy: 0.0075\n",
      "Epoch 100/100\n",
      "133/133 [==============================] - 3s 22ms/step - loss: 0.0027 - accuracy: 0.0075\n"
     ]
    },
    {
     "data": {
      "text/plain": [
       "<tensorflow.python.keras.callbacks.History at 0x7fba3f004390>"
      ]
     },
     "execution_count": 45,
     "metadata": {
      "tags": []
     },
     "output_type": "execute_result"
    }
   ],
   "source": [
    "model2.fit(x_train,y_train,batch_size=1,epochs=100)"
   ]
  },
  {
   "cell_type": "code",
   "execution_count": null,
   "metadata": {
    "colab": {},
    "colab_type": "code",
    "id": "vdLXqLuZsWvn"
   },
   "outputs": [],
   "source": [
    "prediction2=model2.predict(x_test)\n",
    "prediction2=scaler.inverse_transform(prediction2)"
   ]
  },
  {
   "cell_type": "code",
   "execution_count": null,
   "metadata": {
    "colab": {
     "base_uri": "https://localhost:8080/",
     "height": 34
    },
    "colab_type": "code",
    "id": "CvnBErU1sfjI",
    "outputId": "e21c2919-5886-4883-f4bb-e22411aa1c9b"
   },
   "outputs": [
    {
     "name": "stdout",
     "output_type": "stream",
     "text": [
      "Testing error is 24.07582289777915\n"
     ]
    }
   ],
   "source": [
    "from sklearn.metrics import mean_squared_error\n",
    "rm2=np.sqrt(mean_squared_error(prediction2,y_test))\n",
    "print(\"Testing error is\",rm2)\n",
    "#by changing no of epochs from 50 to 100 our error decresed drom 30 to 27"
   ]
  },
  {
   "cell_type": "code",
   "execution_count": null,
   "metadata": {
    "colab": {
     "base_uri": "https://localhost:8080/",
     "height": 720
    },
    "colab_type": "code",
    "id": "f8sISJMzstHW",
    "outputId": "daa6b4c2-7e7f-46bd-db16-2b22c71b7e20"
   },
   "outputs": [
    {
     "name": "stderr",
     "output_type": "stream",
     "text": [
      "/usr/local/lib/python3.6/dist-packages/ipykernel_launcher.py:3: SettingWithCopyWarning: \n",
      "A value is trying to be set on a copy of a slice from a DataFrame.\n",
      "Try using .loc[row_indexer,col_indexer] = value instead\n",
      "\n",
      "See the caveats in the documentation: https://pandas.pydata.org/pandas-docs/stable/user_guide/indexing.html#returning-a-view-versus-a-copy\n",
      "  This is separate from the ipykernel package so we can avoid doing imports until\n",
      "/usr/local/lib/python3.6/dist-packages/ipykernel_launcher.py:10: MatplotlibDeprecationWarning: Unrecognized location 'Lower right'. Falling back on 'best'; valid locations are\n",
      "\tbest\n",
      "\tupper right\n",
      "\tupper left\n",
      "\tlower left\n",
      "\tlower right\n",
      "\tright\n",
      "\tcenter left\n",
      "\tcenter right\n",
      "\tlower center\n",
      "\tupper center\n",
      "\tcenter\n",
      "This will raise an exception in 3.3.\n",
      "  # Remove the CWD from sys.path while we load stuff.\n"
     ]
    },
    {
     "data": {
      "image/png": "[encoded data removed]",
      "text/plain": [
       "<Figure size 1080x360 with 1 Axes>"
      ]
     },
     "metadata": {
      "tags": []
     },
     "output_type": "display_data"
    }
   ],
   "source": [
    "train=data[:training_data_length]\n",
    "valid=data[training_data_length:]\n",
    "valid['Prediction']=prediction2\n",
    "plt.figure(figsize=(15,5))\n",
    "plt.title('Stock market price')\n",
    "plt.xlabel('Date')\n",
    "plt.ylabel('Close Price')\n",
    "plt.plot(train['Close'])\n",
    "plt.plot(valid[['Close','Prediction']])\n",
    "plt.legend(['train','valid','prediction'],loc='Lower right')\n",
    "plt.xticks(np.arange(0,242,45),df['Date'][0:242:45])\n",
    "plt.show()"
   ]
  },
  {
   "cell_type": "code",
   "execution_count": null,
   "metadata": {
    "colab": {
     "base_uri": "https://localhost:8080/",
     "height": 289
    },
    "colab_type": "code",
    "id": "9IsFUMFm1irO",
    "outputId": "ed0b6d8b-4548-478c-811c-8a1d6a176f2e"
   },
   "outputs": [
    {
     "name": "stdout",
     "output_type": "stream",
     "text": [
      "Model: \"sequential_6\"\n",
      "_________________________________________________________________\n",
      "Layer (type)                 Output Shape              Param #   \n",
      "=================================================================\n",
      "gru_8 (GRU)                  (None, 60, 50)            7950      \n",
      "_________________________________________________________________\n",
      "gru_9 (GRU)                  (None, 50)                15300     \n",
      "_________________________________________________________________\n",
      "dense_10 (Dense)             (None, 25)                1275      \n",
      "_________________________________________________________________\n",
      "dense_11 (Dense)             (None, 1)                 26        \n",
      "=================================================================\n",
      "Total params: 24,551\n",
      "Trainable params: 24,551\n",
      "Non-trainable params: 0\n",
      "_________________________________________________________________\n"
     ]
    }
   ],
   "source": [
    "model2.summary()"
   ]
  },
  {
   "cell_type": "code",
   "execution_count": null,
   "metadata": {
    "colab": {
     "base_uri": "https://localhost:8080/",
     "height": 1000
    },
    "colab_type": "code",
    "id": "cvmRQzVAtHQD",
    "outputId": "a98939fe-b77c-4ba7-c14c-c4cd5d1c3f9a"
   },
   "outputs": [
    {
     "name": "stderr",
     "output_type": "stream",
     "text": [
      "/usr/local/lib/python3.6/dist-packages/ipykernel_launcher.py:1: SettingWithCopyWarning: \n",
      "A value is trying to be set on a copy of a slice from a DataFrame.\n",
      "Try using .loc[row_indexer,col_indexer] = value instead\n",
      "\n",
      "See the caveats in the documentation: https://pandas.pydata.org/pandas-docs/stable/user_guide/indexing.html#returning-a-view-versus-a-copy\n",
      "  \"\"\"Entry point for launching an IPython kernel.\n"
     ]
    },
    {
     "data": {
      "text/html": [
       "<div>\n",
       "<style scoped>\n",
       "    .dataframe tbody tr th:only-of-type {\n",
       "        vertical-align: middle;\n",
       "    }\n",
       "\n",
       "    .dataframe tbody tr th {\n",
       "        vertical-align: top;\n",
       "    }\n",
       "\n",
       "    .dataframe thead th {\n",
       "        text-align: right;\n",
       "    }\n",
       "</style>\n",
       "<table border=\"1\" class=\"dataframe\">\n",
       "  <thead>\n",
       "    <tr style=\"text-align: right;\">\n",
       "      <th></th>\n",
       "      <th>Close</th>\n",
       "      <th>Prediction</th>\n",
       "      <th>Date</th>\n",
       "    </tr>\n",
       "  </thead>\n",
       "  <tbody>\n",
       "    <tr>\n",
       "      <th>193</th>\n",
       "      <td>827.70</td>\n",
       "      <td>828.376587</td>\n",
       "      <td>9/16/2019</td>\n",
       "    </tr>\n",
       "    <tr>\n",
       "      <th>194</th>\n",
       "      <td>831.25</td>\n",
       "      <td>823.453003</td>\n",
       "      <td>9/17/2019</td>\n",
       "    </tr>\n",
       "    <tr>\n",
       "      <th>195</th>\n",
       "      <td>829.85</td>\n",
       "      <td>829.025024</td>\n",
       "      <td>9/18/2019</td>\n",
       "    </tr>\n",
       "    <tr>\n",
       "      <th>196</th>\n",
       "      <td>820.70</td>\n",
       "      <td>827.569824</td>\n",
       "      <td>9/19/2019</td>\n",
       "    </tr>\n",
       "    <tr>\n",
       "      <th>197</th>\n",
       "      <td>805.00</td>\n",
       "      <td>819.489868</td>\n",
       "      <td>9/20/2019</td>\n",
       "    </tr>\n",
       "    <tr>\n",
       "      <th>198</th>\n",
       "      <td>764.35</td>\n",
       "      <td>806.607483</td>\n",
       "      <td>9/23/2019</td>\n",
       "    </tr>\n",
       "    <tr>\n",
       "      <th>199</th>\n",
       "      <td>794.05</td>\n",
       "      <td>769.614624</td>\n",
       "      <td>9/24/2019</td>\n",
       "    </tr>\n",
       "    <tr>\n",
       "      <th>200</th>\n",
       "      <td>792.65</td>\n",
       "      <td>795.311829</td>\n",
       "      <td>9/25/2019</td>\n",
       "    </tr>\n",
       "    <tr>\n",
       "      <th>201</th>\n",
       "      <td>782.55</td>\n",
       "      <td>788.493164</td>\n",
       "      <td>9/26/2019</td>\n",
       "    </tr>\n",
       "    <tr>\n",
       "      <th>202</th>\n",
       "      <td>782.20</td>\n",
       "      <td>777.998657</td>\n",
       "      <td>9/27/2019</td>\n",
       "    </tr>\n",
       "    <tr>\n",
       "      <th>203</th>\n",
       "      <td>805.65</td>\n",
       "      <td>779.099182</td>\n",
       "      <td>9/30/2019</td>\n",
       "    </tr>\n",
       "    <tr>\n",
       "      <th>204</th>\n",
       "      <td>793.55</td>\n",
       "      <td>800.207214</td>\n",
       "      <td>10/1/2019</td>\n",
       "    </tr>\n",
       "    <tr>\n",
       "      <th>205</th>\n",
       "      <td>785.60</td>\n",
       "      <td>785.658569</td>\n",
       "      <td>10/3/2019</td>\n",
       "    </tr>\n",
       "    <tr>\n",
       "      <th>206</th>\n",
       "      <td>793.45</td>\n",
       "      <td>782.014282</td>\n",
       "      <td>10/4/2019</td>\n",
       "    </tr>\n",
       "    <tr>\n",
       "      <th>207</th>\n",
       "      <td>789.55</td>\n",
       "      <td>789.976501</td>\n",
       "      <td>10/7/2019</td>\n",
       "    </tr>\n",
       "    <tr>\n",
       "      <th>208</th>\n",
       "      <td>783.65</td>\n",
       "      <td>784.235840</td>\n",
       "      <td>10/9/2019</td>\n",
       "    </tr>\n",
       "    <tr>\n",
       "      <th>209</th>\n",
       "      <td>783.05</td>\n",
       "      <td>779.319092</td>\n",
       "      <td>10/10/2019</td>\n",
       "    </tr>\n",
       "    <tr>\n",
       "      <th>210</th>\n",
       "      <td>814.80</td>\n",
       "      <td>779.100586</td>\n",
       "      <td>10/11/2019</td>\n",
       "    </tr>\n",
       "    <tr>\n",
       "      <th>211</th>\n",
       "      <td>786.10</td>\n",
       "      <td>808.773743</td>\n",
       "      <td>10/14/2019</td>\n",
       "    </tr>\n",
       "    <tr>\n",
       "      <th>212</th>\n",
       "      <td>768.30</td>\n",
       "      <td>777.388245</td>\n",
       "      <td>10/15/2019</td>\n",
       "    </tr>\n",
       "    <tr>\n",
       "      <th>213</th>\n",
       "      <td>771.45</td>\n",
       "      <td>767.933777</td>\n",
       "      <td>10/16/2019</td>\n",
       "    </tr>\n",
       "    <tr>\n",
       "      <th>214</th>\n",
       "      <td>769.50</td>\n",
       "      <td>769.632690</td>\n",
       "      <td>10/17/2019</td>\n",
       "    </tr>\n",
       "    <tr>\n",
       "      <th>215</th>\n",
       "      <td>767.85</td>\n",
       "      <td>764.966187</td>\n",
       "      <td>10/18/2019</td>\n",
       "    </tr>\n",
       "    <tr>\n",
       "      <th>216</th>\n",
       "      <td>643.55</td>\n",
       "      <td>762.529846</td>\n",
       "      <td>10/22/2019</td>\n",
       "    </tr>\n",
       "    <tr>\n",
       "      <th>217</th>\n",
       "      <td>650.60</td>\n",
       "      <td>661.209961</td>\n",
       "      <td>10/23/2019</td>\n",
       "    </tr>\n",
       "    <tr>\n",
       "      <th>218</th>\n",
       "      <td>635.35</td>\n",
       "      <td>638.080444</td>\n",
       "      <td>10/24/2019</td>\n",
       "    </tr>\n",
       "    <tr>\n",
       "      <th>219</th>\n",
       "      <td>637.45</td>\n",
       "      <td>641.469421</td>\n",
       "      <td>10/25/2019</td>\n",
       "    </tr>\n",
       "    <tr>\n",
       "      <th>220</th>\n",
       "      <td>648.85</td>\n",
       "      <td>678.178162</td>\n",
       "      <td>10/27/2019</td>\n",
       "    </tr>\n",
       "    <tr>\n",
       "      <th>221</th>\n",
       "      <td>650.65</td>\n",
       "      <td>712.158630</td>\n",
       "      <td>10/29/2019</td>\n",
       "    </tr>\n",
       "    <tr>\n",
       "      <th>222</th>\n",
       "      <td>660.60</td>\n",
       "      <td>704.579834</td>\n",
       "      <td>10/30/2019</td>\n",
       "    </tr>\n",
       "    <tr>\n",
       "      <th>223</th>\n",
       "      <td>685.60</td>\n",
       "      <td>692.603149</td>\n",
       "      <td>10/31/2019</td>\n",
       "    </tr>\n",
       "    <tr>\n",
       "      <th>224</th>\n",
       "      <td>687.90</td>\n",
       "      <td>701.318970</td>\n",
       "      <td>11/1/2019</td>\n",
       "    </tr>\n",
       "    <tr>\n",
       "      <th>225</th>\n",
       "      <td>709.00</td>\n",
       "      <td>699.516724</td>\n",
       "      <td>11/4/2019</td>\n",
       "    </tr>\n",
       "    <tr>\n",
       "      <th>226</th>\n",
       "      <td>696.10</td>\n",
       "      <td>715.544556</td>\n",
       "      <td>11/5/2019</td>\n",
       "    </tr>\n",
       "    <tr>\n",
       "      <th>227</th>\n",
       "      <td>712.30</td>\n",
       "      <td>704.192932</td>\n",
       "      <td>11/6/2019</td>\n",
       "    </tr>\n",
       "    <tr>\n",
       "      <th>228</th>\n",
       "      <td>720.10</td>\n",
       "      <td>714.766907</td>\n",
       "      <td>11/7/2019</td>\n",
       "    </tr>\n",
       "    <tr>\n",
       "      <th>229</th>\n",
       "      <td>708.15</td>\n",
       "      <td>723.237915</td>\n",
       "      <td>11/8/2019</td>\n",
       "    </tr>\n",
       "    <tr>\n",
       "      <th>230</th>\n",
       "      <td>704.40</td>\n",
       "      <td>711.305298</td>\n",
       "      <td>11/11/2019</td>\n",
       "    </tr>\n",
       "    <tr>\n",
       "      <th>231</th>\n",
       "      <td>691.35</td>\n",
       "      <td>704.686707</td>\n",
       "      <td>11/13/2019</td>\n",
       "    </tr>\n",
       "    <tr>\n",
       "      <th>232</th>\n",
       "      <td>705.30</td>\n",
       "      <td>692.102112</td>\n",
       "      <td>11/14/2019</td>\n",
       "    </tr>\n",
       "    <tr>\n",
       "      <th>233</th>\n",
       "      <td>703.90</td>\n",
       "      <td>703.984863</td>\n",
       "      <td>11/15/2019</td>\n",
       "    </tr>\n",
       "    <tr>\n",
       "      <th>234</th>\n",
       "      <td>705.20</td>\n",
       "      <td>709.249634</td>\n",
       "      <td>11/18/2019</td>\n",
       "    </tr>\n",
       "    <tr>\n",
       "      <th>235</th>\n",
       "      <td>712.85</td>\n",
       "      <td>711.433350</td>\n",
       "      <td>11/19/2019</td>\n",
       "    </tr>\n",
       "    <tr>\n",
       "      <th>236</th>\n",
       "      <td>713.00</td>\n",
       "      <td>717.579285</td>\n",
       "      <td>11/20/2019</td>\n",
       "    </tr>\n",
       "    <tr>\n",
       "      <th>237</th>\n",
       "      <td>713.25</td>\n",
       "      <td>716.722229</td>\n",
       "      <td>11/21/2019</td>\n",
       "    </tr>\n",
       "    <tr>\n",
       "      <th>238</th>\n",
       "      <td>693.20</td>\n",
       "      <td>714.858582</td>\n",
       "      <td>11/22/2019</td>\n",
       "    </tr>\n",
       "    <tr>\n",
       "      <th>239</th>\n",
       "      <td>698.10</td>\n",
       "      <td>695.432312</td>\n",
       "      <td>11/25/2019</td>\n",
       "    </tr>\n",
       "    <tr>\n",
       "      <th>240</th>\n",
       "      <td>690.60</td>\n",
       "      <td>696.213745</td>\n",
       "      <td>11/26/2019</td>\n",
       "    </tr>\n",
       "    <tr>\n",
       "      <th>241</th>\n",
       "      <td>695.75</td>\n",
       "      <td>693.209656</td>\n",
       "      <td>11/27/2019</td>\n",
       "    </tr>\n",
       "  </tbody>\n",
       "</table>\n",
       "</div>"
      ],
      "text/plain": [
       "      Close  Prediction        Date\n",
       "193  827.70  828.376587   9/16/2019\n",
       "194  831.25  823.453003   9/17/2019\n",
       "195  829.85  829.025024   9/18/2019\n",
       "196  820.70  827.569824   9/19/2019\n",
       "197  805.00  819.489868   9/20/2019\n",
       "198  764.35  806.607483   9/23/2019\n",
       "199  794.05  769.614624   9/24/2019\n",
       "200  792.65  795.311829   9/25/2019\n",
       "201  782.55  788.493164   9/26/2019\n",
       "202  782.20  777.998657   9/27/2019\n",
       "203  805.65  779.099182   9/30/2019\n",
       "204  793.55  800.207214   10/1/2019\n",
       "205  785.60  785.658569   10/3/2019\n",
       "206  793.45  782.014282   10/4/2019\n",
       "207  789.55  789.976501   10/7/2019\n",
       "208  783.65  784.235840   10/9/2019\n",
       "209  783.05  779.319092  10/10/2019\n",
       "210  814.80  779.100586  10/11/2019\n",
       "211  786.10  808.773743  10/14/2019\n",
       "212  768.30  777.388245  10/15/2019\n",
       "213  771.45  767.933777  10/16/2019\n",
       "214  769.50  769.632690  10/17/2019\n",
       "215  767.85  764.966187  10/18/2019\n",
       "216  643.55  762.529846  10/22/2019\n",
       "217  650.60  661.209961  10/23/2019\n",
       "218  635.35  638.080444  10/24/2019\n",
       "219  637.45  641.469421  10/25/2019\n",
       "220  648.85  678.178162  10/27/2019\n",
       "221  650.65  712.158630  10/29/2019\n",
       "222  660.60  704.579834  10/30/2019\n",
       "223  685.60  692.603149  10/31/2019\n",
       "224  687.90  701.318970   11/1/2019\n",
       "225  709.00  699.516724   11/4/2019\n",
       "226  696.10  715.544556   11/5/2019\n",
       "227  712.30  704.192932   11/6/2019\n",
       "228  720.10  714.766907   11/7/2019\n",
       "229  708.15  723.237915   11/8/2019\n",
       "230  704.40  711.305298  11/11/2019\n",
       "231  691.35  704.686707  11/13/2019\n",
       "232  705.30  692.102112  11/14/2019\n",
       "233  703.90  703.984863  11/15/2019\n",
       "234  705.20  709.249634  11/18/2019\n",
       "235  712.85  711.433350  11/19/2019\n",
       "236  713.00  717.579285  11/20/2019\n",
       "237  713.25  716.722229  11/21/2019\n",
       "238  693.20  714.858582  11/22/2019\n",
       "239  698.10  695.432312  11/25/2019\n",
       "240  690.60  696.213745  11/26/2019\n",
       "241  695.75  693.209656  11/27/2019"
      ]
     },
     "execution_count": 56,
     "metadata": {
      "tags": []
     },
     "output_type": "execute_result"
    }
   ],
   "source": [
    "valid['Date']=df['Date'][training_data_length:]\n",
    "valid"
   ]
  }
 ],
 "metadata": {
  "colab": {
   "collapsed_sections": [],
   "name": "BidirectionalLSTM and GRU.ipynb",
   "provenance": [],
   "toc_visible": true
  },
  "kernelspec": {
   "display_name": "Python 3 (ipykernel)",
   "language": "python",
   "name": "python3"
  },
  "language_info": {
   "codemirror_mode": {
    "name": "ipython",
    "version": 3
   },
   "file_extension": ".py",
   "mimetype": "text/x-python",
   "name": "python",
   "nbconvert_exporter": "python",
   "pygments_lexer": "ipython3",
   "version": "3.9.7"
  }
 },
 "nbformat": 4,
 "nbformat_minor": 1
}
